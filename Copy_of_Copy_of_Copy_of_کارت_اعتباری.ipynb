{
  "nbformat": 4,
  "nbformat_minor": 0,
  "metadata": {
    "colab": {
      "provenance": [],
      "authorship_tag": "ABX9TyMtOgftZPD1pn/tCBVvJR0a",
      "include_colab_link": true
    },
    "kernelspec": {
      "name": "python3",
      "display_name": "Python 3"
    },
    "language_info": {
      "name": "python"
    }
  },
  "cells": [
    {
      "cell_type": "markdown",
      "metadata": {
        "id": "view-in-github",
        "colab_type": "text"
      },
      "source": [
        "<a href=\"https://colab.research.google.com/github/sheida78/CS-SBU-eAdvancedAlgorithms-MSc-2023/blob/main/Copy_of_Copy_of_Copy_of_%DA%A9%D8%A7%D8%B1%D8%AA_%D8%A7%D8%B9%D8%AA%D8%A8%D8%A7%D8%B1%DB%8C.ipynb\" target=\"_parent\"><img src=\"https://colab.research.google.com/assets/colab-badge.svg\" alt=\"Open In Colab\"/></a>"
      ]
    },
    {
      "cell_type": "markdown",
      "source": [
        "# پروژه ی یادگیری بدون نظارت تقسیم بندی مشتریان بانک آل لایف\n",
        "\n"
      ],
      "metadata": {
        "id": "VOGuJ0Rn9Z0K"
      }
    },
    {
      "cell_type": "markdown",
      "source": [
        "در این پروزه یادگیری بدون ناظر ما از داده های کارت اعتباری مشتریان استفاده خواهیم کرد"
      ],
      "metadata": {
        "id": "AUWHXaE09v2g"
      }
    },
    {
      "cell_type": "markdown",
      "source": [
        "\n",
        "بانک آل لایف می خواهد در سال مالی آینده بر پایگاه  کارت اعتباری مشتریان خود تمرکز کند. تیم تحقیقات بازاریابی به آنها توصیه کرده است که نفوذ در بازار را می توان بهبود بخشید. بر اساس این ورودی، تیم بازاریابی پیشنهاد می کند که کمپین های شخصی سازی شده را برای هدف قرار دادن مشتریان جدید و همچنین فروش به مشتریان فعلی اجرا کند.\n",
        "\n",
        "دیدگاه دیگری از تحقیقات بازار این بود که مشتریان خدمات پشتیبانی بانک را ضعیف می دانند. بر این اساس، تیم عملیات می‌خواهد مدل ارائه خدمات را ارتقا دهد تا اطمینان حاصل شود که سؤالات مشتریان سریع‌تر حل می‌شوند. رئیس بازاریابی و رئیس تحویل، هر دو تصمیم می‌گیرند برای کمک با تیم علم داده تماس بگیرند."
      ],
      "metadata": {
        "id": "pKYEU73S-hnj"
      }
    },
    {
      "cell_type": "markdown",
      "source": [
        "# هدف"
      ],
      "metadata": {
        "id": "KFfMb1MwEpWY"
      }
    },
    {
      "cell_type": "markdown",
      "source": [
        "شناسایی بخش‌های مختلف در پایگاه مشتری ، با در نظر گرفتن الگوهای مخارج آنها و همچنین تعاملات گذشته با مشتریان بانک\n"
      ],
      "metadata": {
        "id": "lycH5Rk3Exh5"
      }
    },
    {
      "cell_type": "markdown",
      "source": [
        "# در مورد داده ها"
      ],
      "metadata": {
        "id": "Wo4gPhW1FLOo"
      }
    },
    {
      "cell_type": "markdown",
      "source": [
        "داده‌های مشتریان بانک با محدودیت اعتبار، تعداد کل کارت‌های اعتباری مشتری و کانال‌های مختلفی که مشتری از طریق آنها برای هرگونه سؤال با بانک تماس گرفته است، در دسترس است. این کانال های مختلف شامل مراجعه به بانک، آنلاین و از طریق مرکز تماس است.\n",
        "\n",
        "\n",
        "*   Sl-no :شماره سریال مشتری\n",
        "*   Customer-key:احراز هویت مشتری\n",
        "\n",
        "*   Avg-Credit-Limit:حد متوسط اعتبار\n",
        "*   Total-Credit-Cart:تعداد کل کارت های اعتباری\n",
        "\n",
        "*   Total_visits_bank:مجموع بازدید های بانکی\n",
        "*   Total_visits_online:مجموع بازدید های آنلاین\n",
        "\n",
        "*   Total_calls_made :مجموع تماس های انجام شده"
      ],
      "metadata": {
        "id": "_hr-K_cpFVd5"
      }
    },
    {
      "cell_type": "markdown",
      "source": [
        "### فراخوانی کتابخانه ها و نمای کلی  مجموعه ی داده ها"
      ],
      "metadata": {
        "id": "42vbbWJeCHdB"
      }
    },
    {
      "cell_type": "code",
      "source": [
        "from google.colab import drive\n",
        "drive.mount('/content/gdrive')"
      ],
      "metadata": {
        "colab": {
          "base_uri": "https://localhost:8080/"
        },
        "id": "teVE0yHZsPfc",
        "outputId": "c2f96cac-d6f6-4de0-9bef-8efbe54974d7"
      },
      "execution_count": 47,
      "outputs": [
        {
          "output_type": "stream",
          "name": "stdout",
          "text": [
            "Drive already mounted at /content/gdrive; to attempt to forcibly remount, call drive.mount(\"/content/gdrive\", force_remount=True).\n"
          ]
        }
      ]
    },
    {
      "cell_type": "markdown",
      "source": [
        "در این قسمت کتابخانه های مورد نیاز را فراخوانی می کنیم\n",
        "\n",
        " اگر کتابخانه  scikit-learn را نصب نکرده اید، لطفا کد زیر را برای نصب کتابخانه اجرا کنید:\n",
        "\n",
        "!pip install scikit-learn-extra\n"
      ],
      "metadata": {
        "id": "uH95BDy09V92"
      }
    },
    {
      "cell_type": "code",
      "source": [
        "# فرخوانی کتابخانه های ضروری\n",
        "import pandas as pd\n",
        "\n",
        "import numpy as np\n",
        "\n",
        "import matplotlib.pylab as plt\n",
        "\n",
        "import seaborn as sns\n",
        "\n",
        "# To scale the data using z-score\n",
        "from sklearn.preprocessing import StandardScaler\n",
        "\n",
        "# Importing clustering algorithms\n",
        "from sklearn.cluster import KMeans\n",
        "\n",
        "from sklearn.mixture import GaussianMixture\n",
        "\n",
        "from sklearn_extra.cluster import KMedoids\n",
        "\n",
        "import warnings\n",
        "warnings.filterwarnings(\"ignore\")"
      ],
      "metadata": {
        "id": "bSjaKjiHhDl3"
      },
      "execution_count": 48,
      "outputs": []
    },
    {
      "cell_type": "markdown",
      "source": [
        "# باز کردن مجموعه داده ها"
      ],
      "metadata": {
        "id": "vSFK7L48_J75"
      }
    },
    {
      "cell_type": "code",
      "source": [
        "data = pd.read_excel('/content/gdrive/MyDrive/credit-card.xlsx')\n",
        "data.head()\n"
      ],
      "metadata": {
        "id": "AE6hS0vf8VW-",
        "colab": {
          "base_uri": "https://localhost:8080/",
          "height": 206
        },
        "outputId": "828f69b3-6e0e-4518-db48-56c7bb0363bc"
      },
      "execution_count": 49,
      "outputs": [
        {
          "output_type": "execute_result",
          "data": {
            "text/plain": [
              "   Sl_No  Customer Key  Avg_Credit_Limit  Total_Credit_Cards  \\\n",
              "0      1         87073            100000                   2   \n",
              "1      2         38414             50000                   3   \n",
              "2      3         17341             50000                   7   \n",
              "3      4         40496             30000                   5   \n",
              "4      5         47437            100000                   6   \n",
              "\n",
              "   Total_visits_bank  Total_visits_online  Total_calls_made  \n",
              "0                  1                    1                 0  \n",
              "1                  0                   10                 9  \n",
              "2                  1                    3                 4  \n",
              "3                  1                    1                 4  \n",
              "4                  0                   12                 3  "
            ],
            "text/html": [
              "\n",
              "\n",
              "  <div id=\"df-491c0a06-5a88-4419-a148-11f8fcbc157a\">\n",
              "    <div class=\"colab-df-container\">\n",
              "      <div>\n",
              "<style scoped>\n",
              "    .dataframe tbody tr th:only-of-type {\n",
              "        vertical-align: middle;\n",
              "    }\n",
              "\n",
              "    .dataframe tbody tr th {\n",
              "        vertical-align: top;\n",
              "    }\n",
              "\n",
              "    .dataframe thead th {\n",
              "        text-align: right;\n",
              "    }\n",
              "</style>\n",
              "<table border=\"1\" class=\"dataframe\">\n",
              "  <thead>\n",
              "    <tr style=\"text-align: right;\">\n",
              "      <th></th>\n",
              "      <th>Sl_No</th>\n",
              "      <th>Customer Key</th>\n",
              "      <th>Avg_Credit_Limit</th>\n",
              "      <th>Total_Credit_Cards</th>\n",
              "      <th>Total_visits_bank</th>\n",
              "      <th>Total_visits_online</th>\n",
              "      <th>Total_calls_made</th>\n",
              "    </tr>\n",
              "  </thead>\n",
              "  <tbody>\n",
              "    <tr>\n",
              "      <th>0</th>\n",
              "      <td>1</td>\n",
              "      <td>87073</td>\n",
              "      <td>100000</td>\n",
              "      <td>2</td>\n",
              "      <td>1</td>\n",
              "      <td>1</td>\n",
              "      <td>0</td>\n",
              "    </tr>\n",
              "    <tr>\n",
              "      <th>1</th>\n",
              "      <td>2</td>\n",
              "      <td>38414</td>\n",
              "      <td>50000</td>\n",
              "      <td>3</td>\n",
              "      <td>0</td>\n",
              "      <td>10</td>\n",
              "      <td>9</td>\n",
              "    </tr>\n",
              "    <tr>\n",
              "      <th>2</th>\n",
              "      <td>3</td>\n",
              "      <td>17341</td>\n",
              "      <td>50000</td>\n",
              "      <td>7</td>\n",
              "      <td>1</td>\n",
              "      <td>3</td>\n",
              "      <td>4</td>\n",
              "    </tr>\n",
              "    <tr>\n",
              "      <th>3</th>\n",
              "      <td>4</td>\n",
              "      <td>40496</td>\n",
              "      <td>30000</td>\n",
              "      <td>5</td>\n",
              "      <td>1</td>\n",
              "      <td>1</td>\n",
              "      <td>4</td>\n",
              "    </tr>\n",
              "    <tr>\n",
              "      <th>4</th>\n",
              "      <td>5</td>\n",
              "      <td>47437</td>\n",
              "      <td>100000</td>\n",
              "      <td>6</td>\n",
              "      <td>0</td>\n",
              "      <td>12</td>\n",
              "      <td>3</td>\n",
              "    </tr>\n",
              "  </tbody>\n",
              "</table>\n",
              "</div>\n",
              "      <button class=\"colab-df-convert\" onclick=\"convertToInteractive('df-491c0a06-5a88-4419-a148-11f8fcbc157a')\"\n",
              "              title=\"Convert this dataframe to an interactive table.\"\n",
              "              style=\"display:none;\">\n",
              "\n",
              "  <svg xmlns=\"http://www.w3.org/2000/svg\" height=\"24px\"viewBox=\"0 0 24 24\"\n",
              "       width=\"24px\">\n",
              "    <path d=\"M0 0h24v24H0V0z\" fill=\"none\"/>\n",
              "    <path d=\"M18.56 5.44l.94 2.06.94-2.06 2.06-.94-2.06-.94-.94-2.06-.94 2.06-2.06.94zm-11 1L8.5 8.5l.94-2.06 2.06-.94-2.06-.94L8.5 2.5l-.94 2.06-2.06.94zm10 10l.94 2.06.94-2.06 2.06-.94-2.06-.94-.94-2.06-.94 2.06-2.06.94z\"/><path d=\"M17.41 7.96l-1.37-1.37c-.4-.4-.92-.59-1.43-.59-.52 0-1.04.2-1.43.59L10.3 9.45l-7.72 7.72c-.78.78-.78 2.05 0 2.83L4 21.41c.39.39.9.59 1.41.59.51 0 1.02-.2 1.41-.59l7.78-7.78 2.81-2.81c.8-.78.8-2.07 0-2.86zM5.41 20L4 18.59l7.72-7.72 1.47 1.35L5.41 20z\"/>\n",
              "  </svg>\n",
              "      </button>\n",
              "\n",
              "\n",
              "\n",
              "    <div id=\"df-13639f21-c14b-4d76-ad4f-2b029a7278c7\">\n",
              "      <button class=\"colab-df-quickchart\" onclick=\"quickchart('df-13639f21-c14b-4d76-ad4f-2b029a7278c7')\"\n",
              "              title=\"Suggest charts.\"\n",
              "              style=\"display:none;\">\n",
              "\n",
              "<svg xmlns=\"http://www.w3.org/2000/svg\" height=\"24px\"viewBox=\"0 0 24 24\"\n",
              "     width=\"24px\">\n",
              "    <g>\n",
              "        <path d=\"M19 3H5c-1.1 0-2 .9-2 2v14c0 1.1.9 2 2 2h14c1.1 0 2-.9 2-2V5c0-1.1-.9-2-2-2zM9 17H7v-7h2v7zm4 0h-2V7h2v10zm4 0h-2v-4h2v4z\"/>\n",
              "    </g>\n",
              "</svg>\n",
              "      </button>\n",
              "    </div>\n",
              "\n",
              "<style>\n",
              "  .colab-df-quickchart {\n",
              "    background-color: #E8F0FE;\n",
              "    border: none;\n",
              "    border-radius: 50%;\n",
              "    cursor: pointer;\n",
              "    display: none;\n",
              "    fill: #1967D2;\n",
              "    height: 32px;\n",
              "    padding: 0 0 0 0;\n",
              "    width: 32px;\n",
              "  }\n",
              "\n",
              "  .colab-df-quickchart:hover {\n",
              "    background-color: #E2EBFA;\n",
              "    box-shadow: 0px 1px 2px rgba(60, 64, 67, 0.3), 0px 1px 3px 1px rgba(60, 64, 67, 0.15);\n",
              "    fill: #174EA6;\n",
              "  }\n",
              "\n",
              "  [theme=dark] .colab-df-quickchart {\n",
              "    background-color: #3B4455;\n",
              "    fill: #D2E3FC;\n",
              "  }\n",
              "\n",
              "  [theme=dark] .colab-df-quickchart:hover {\n",
              "    background-color: #434B5C;\n",
              "    box-shadow: 0px 1px 3px 1px rgba(0, 0, 0, 0.15);\n",
              "    filter: drop-shadow(0px 1px 2px rgba(0, 0, 0, 0.3));\n",
              "    fill: #FFFFFF;\n",
              "  }\n",
              "</style>\n",
              "\n",
              "    <script>\n",
              "      async function quickchart(key) {\n",
              "        const containerElement = document.querySelector('#' + key);\n",
              "        const charts = await google.colab.kernel.invokeFunction(\n",
              "            'suggestCharts', [key], {});\n",
              "      }\n",
              "    </script>\n",
              "\n",
              "      <script>\n",
              "\n",
              "function displayQuickchartButton(domScope) {\n",
              "  let quickchartButtonEl =\n",
              "    domScope.querySelector('#df-13639f21-c14b-4d76-ad4f-2b029a7278c7 button.colab-df-quickchart');\n",
              "  quickchartButtonEl.style.display =\n",
              "    google.colab.kernel.accessAllowed ? 'block' : 'none';\n",
              "}\n",
              "\n",
              "        displayQuickchartButton(document);\n",
              "      </script>\n",
              "      <style>\n",
              "    .colab-df-container {\n",
              "      display:flex;\n",
              "      flex-wrap:wrap;\n",
              "      gap: 12px;\n",
              "    }\n",
              "\n",
              "    .colab-df-convert {\n",
              "      background-color: #E8F0FE;\n",
              "      border: none;\n",
              "      border-radius: 50%;\n",
              "      cursor: pointer;\n",
              "      display: none;\n",
              "      fill: #1967D2;\n",
              "      height: 32px;\n",
              "      padding: 0 0 0 0;\n",
              "      width: 32px;\n",
              "    }\n",
              "\n",
              "    .colab-df-convert:hover {\n",
              "      background-color: #E2EBFA;\n",
              "      box-shadow: 0px 1px 2px rgba(60, 64, 67, 0.3), 0px 1px 3px 1px rgba(60, 64, 67, 0.15);\n",
              "      fill: #174EA6;\n",
              "    }\n",
              "\n",
              "    [theme=dark] .colab-df-convert {\n",
              "      background-color: #3B4455;\n",
              "      fill: #D2E3FC;\n",
              "    }\n",
              "\n",
              "    [theme=dark] .colab-df-convert:hover {\n",
              "      background-color: #434B5C;\n",
              "      box-shadow: 0px 1px 3px 1px rgba(0, 0, 0, 0.15);\n",
              "      filter: drop-shadow(0px 1px 2px rgba(0, 0, 0, 0.3));\n",
              "      fill: #FFFFFF;\n",
              "    }\n",
              "  </style>\n",
              "\n",
              "      <script>\n",
              "        const buttonEl =\n",
              "          document.querySelector('#df-491c0a06-5a88-4419-a148-11f8fcbc157a button.colab-df-convert');\n",
              "        buttonEl.style.display =\n",
              "          google.colab.kernel.accessAllowed ? 'block' : 'none';\n",
              "\n",
              "        async function convertToInteractive(key) {\n",
              "          const element = document.querySelector('#df-491c0a06-5a88-4419-a148-11f8fcbc157a');\n",
              "          const dataTable =\n",
              "            await google.colab.kernel.invokeFunction('convertToInteractive',\n",
              "                                                     [key], {});\n",
              "          if (!dataTable) return;\n",
              "\n",
              "          const docLinkHtml = 'Like what you see? Visit the ' +\n",
              "            '<a target=\"_blank\" href=https://colab.research.google.com/notebooks/data_table.ipynb>data table notebook</a>'\n",
              "            + ' to learn more about interactive tables.';\n",
              "          element.innerHTML = '';\n",
              "          dataTable['output_type'] = 'display_data';\n",
              "          await google.colab.output.renderOutput(dataTable, element);\n",
              "          const docLink = document.createElement('div');\n",
              "          docLink.innerHTML = docLinkHtml;\n",
              "          element.appendChild(docLink);\n",
              "        }\n",
              "      </script>\n",
              "    </div>\n",
              "  </div>\n"
            ]
          },
          "metadata": {},
          "execution_count": 49
        }
      ]
    },
    {
      "cell_type": "markdown",
      "source": [
        "# بررسی اطلاعات مجموعه داده ها"
      ],
      "metadata": {
        "id": "00Ion2Wd_uuA"
      }
    },
    {
      "cell_type": "code",
      "source": [
        "data.info()"
      ],
      "metadata": {
        "colab": {
          "base_uri": "https://localhost:8080/"
        },
        "id": "d6OfmQ8E_0q0",
        "outputId": "7ce1fcae-d201-4507-d407-ed3de77838db"
      },
      "execution_count": 50,
      "outputs": [
        {
          "output_type": "stream",
          "name": "stdout",
          "text": [
            "<class 'pandas.core.frame.DataFrame'>\n",
            "RangeIndex: 660 entries, 0 to 659\n",
            "Data columns (total 7 columns):\n",
            " #   Column               Non-Null Count  Dtype\n",
            "---  ------               --------------  -----\n",
            " 0   Sl_No                660 non-null    int64\n",
            " 1   Customer Key         660 non-null    int64\n",
            " 2   Avg_Credit_Limit     660 non-null    int64\n",
            " 3   Total_Credit_Cards   660 non-null    int64\n",
            " 4   Total_visits_bank    660 non-null    int64\n",
            " 5   Total_visits_online  660 non-null    int64\n",
            " 6   Total_calls_made     660 non-null    int64\n",
            "dtypes: int64(7)\n",
            "memory usage: 36.2 KB\n"
          ]
        }
      ]
    },
    {
      "cell_type": "markdown",
      "source": [
        " ششصد و شصت مشاهده و 7 ستون در مجموعه داده وجود دارد.\n",
        "همه ستون ها دارای 660 مقدار غیر تهی هستند، یعنی هیچ مقدار گم شده ای وجود ندارد.\n",
        "تمام ستون ها از نوع داده عدد صحیح هستند."
      ],
      "metadata": {
        "id": "nqCReR-GAcrp"
      }
    },
    {
      "cell_type": "code",
      "source": [
        "data.nunique()"
      ],
      "metadata": {
        "colab": {
          "base_uri": "https://localhost:8080/"
        },
        "id": "xqXLGwWBArIZ",
        "outputId": "46fcbdf4-74a7-42c6-e3b1-405d9faf8382"
      },
      "execution_count": 51,
      "outputs": [
        {
          "output_type": "execute_result",
          "data": {
            "text/plain": [
              "Sl_No                  660\n",
              "Customer Key           655\n",
              "Avg_Credit_Limit       110\n",
              "Total_Credit_Cards      10\n",
              "Total_visits_bank        6\n",
              "Total_visits_online     16\n",
              "Total_calls_made        11\n",
              "dtype: int64"
            ]
          },
          "metadata": {},
          "execution_count": 51
        }
      ]
    },
    {
      "cell_type": "markdown",
      "source": [
        "کلید مشتری، یک شناسه است که مقادیر تکراری دارد. قبل از اعمال هر الگوریتمی، کلیدهای مشتری تکراری را درمان می کنیم."
      ],
      "metadata": {
        "id": "2y82KnuyBBI4"
      }
    },
    {
      "cell_type": "markdown",
      "source": [
        "# پیش پردازش داده ها و تجزیه و تحلیل داده های اکتشافی"
      ],
      "metadata": {
        "id": "I8gkS_IiBQxZ"
      }
    },
    {
      "cell_type": "markdown",
      "source": [
        "## بررسی کلید های تکراری مشتری\n",
        "کلید های مشتری دارای مقادیر تکراری هستند و می توانیم ردیف تکراری را پیدا کنیم"
      ],
      "metadata": {
        "id": "B4zZ5E7DGiQP"
      }
    },
    {
      "cell_type": "markdown",
      "source": [
        "# سوال1\n",
        "کلید های تکراری مشتری را در سطر ها حدف کنید 2نمره\n",
        "\n"
      ],
      "metadata": {
        "id": "ewg49umjpXxZ"
      }
    },
    {
      "cell_type": "code",
      "source": [
        "# There are some duplicates in the column 'Customer Key'. Let us explore\n",
        "duplicate_keys = data['Customer Key'].__________\n",
        "\n",
        "data[duplicate_keys]"
      ],
      "metadata": {
        "id": "ZIXcJZi7JpVV"
      },
      "execution_count": null,
      "outputs": []
    },
    {
      "cell_type": "markdown",
      "source": [
        "توجه: ما هیچ فرضی در مورد اینکه کدام ردیف با کلیدهای تکراری باید حذف شود، نداریم. به عنوان مثال، اگر ردیف 2 و ردیف 10 دارای کلیدهای مشتری تکراری باشند، هر یک از دو ردیف را می توان حذف کرد."
      ],
      "metadata": {
        "id": "PRMUvsscppxk"
      }
    },
    {
      "cell_type": "code",
      "source": [
        "# let's drop duplicate keys\n",
        "\n",
        "data = ____________"
      ],
      "metadata": {
        "id": "Zd50wzppfYVK"
      },
      "execution_count": null,
      "outputs": []
    },
    {
      "cell_type": "markdown",
      "source": [
        " پنج کلید مشتری تکراری وجود دارد. ما می توانیم این مشاهدات را کنار بگذاریم."
      ],
      "metadata": {
        "id": "r_NygG1Bpws4"
      }
    },
    {
      "cell_type": "markdown",
      "source": [
        "## حذف کردن ستون ها"
      ],
      "metadata": {
        "id": "vjREBUqmzsYo"
      }
    },
    {
      "cell_type": "markdown",
      "source": [
        "ما چند بررسی اساسی انجام داده ایم. حالا متغیرهایی را که برای تجزیه و تحلیل ما مورد نیاز نیستند، کنار می گذاریم."
      ],
      "metadata": {
        "id": "7t6UtN5ozswc"
      }
    },
    {
      "cell_type": "code",
      "source": [
        "# کلیدهای تکراری را حذف  می کنیم\n",
        "data.drop(columns = ['Sl_No', 'Customer Key'], inplace = True)"
      ],
      "metadata": {
        "id": "R8Kqe8yVwZQ4"
      },
      "execution_count": 53,
      "outputs": []
    },
    {
      "cell_type": "markdown",
      "source": [
        "# بررسی ردیف های تکراری"
      ],
      "metadata": {
        "id": "BMj-qXH80hwy"
      }
    },
    {
      "cell_type": "markdown",
      "source": [
        "اکنون، که ستون‌های غیر ضروری را حذف کرده‌ایم، می‌توانیم دوباره وجود موارد تکراری را بررسی کنیم. تکراری به معنای مشتریانی با ویژگی های یکسان است."
      ],
      "metadata": {
        "id": "pqSr6awZ0iAG"
      }
    },
    {
      "cell_type": "code",
      "source": [
        "data[data.duplicated()]"
      ],
      "metadata": {
        "colab": {
          "base_uri": "https://localhost:8080/",
          "height": 394
        },
        "id": "1U4MSCwfG0fO",
        "outputId": "7d5a200e-3d79-4a8d-fb3e-3f216848908a"
      },
      "execution_count": 54,
      "outputs": [
        {
          "output_type": "execute_result",
          "data": {
            "text/plain": [
              "     Avg_Credit_Limit  Total_Credit_Cards  Total_visits_bank  \\\n",
              "162              8000                   2                  0   \n",
              "175              6000                   1                  0   \n",
              "215              8000                   4                  0   \n",
              "295             10000                   6                  4   \n",
              "324              9000                   4                  5   \n",
              "361             18000                   6                  3   \n",
              "378             12000                   6                  5   \n",
              "385              8000                   7                  4   \n",
              "395              5000                   4                  5   \n",
              "455             47000                   6                  2   \n",
              "497             52000                   4                  2   \n",
              "\n",
              "     Total_visits_online  Total_calls_made  \n",
              "162                    3                 4  \n",
              "175                    2                 5  \n",
              "215                    4                 7  \n",
              "295                    2                 3  \n",
              "324                    0                 4  \n",
              "361                    1                 4  \n",
              "378                    2                 1  \n",
              "385                    2                 0  \n",
              "395                    0                 1  \n",
              "455                    0                 4  \n",
              "497                    1                 2  "
            ],
            "text/html": [
              "\n",
              "\n",
              "  <div id=\"df-212f72c4-013b-41ab-845e-8ddea98f8aea\">\n",
              "    <div class=\"colab-df-container\">\n",
              "      <div>\n",
              "<style scoped>\n",
              "    .dataframe tbody tr th:only-of-type {\n",
              "        vertical-align: middle;\n",
              "    }\n",
              "\n",
              "    .dataframe tbody tr th {\n",
              "        vertical-align: top;\n",
              "    }\n",
              "\n",
              "    .dataframe thead th {\n",
              "        text-align: right;\n",
              "    }\n",
              "</style>\n",
              "<table border=\"1\" class=\"dataframe\">\n",
              "  <thead>\n",
              "    <tr style=\"text-align: right;\">\n",
              "      <th></th>\n",
              "      <th>Avg_Credit_Limit</th>\n",
              "      <th>Total_Credit_Cards</th>\n",
              "      <th>Total_visits_bank</th>\n",
              "      <th>Total_visits_online</th>\n",
              "      <th>Total_calls_made</th>\n",
              "    </tr>\n",
              "  </thead>\n",
              "  <tbody>\n",
              "    <tr>\n",
              "      <th>162</th>\n",
              "      <td>8000</td>\n",
              "      <td>2</td>\n",
              "      <td>0</td>\n",
              "      <td>3</td>\n",
              "      <td>4</td>\n",
              "    </tr>\n",
              "    <tr>\n",
              "      <th>175</th>\n",
              "      <td>6000</td>\n",
              "      <td>1</td>\n",
              "      <td>0</td>\n",
              "      <td>2</td>\n",
              "      <td>5</td>\n",
              "    </tr>\n",
              "    <tr>\n",
              "      <th>215</th>\n",
              "      <td>8000</td>\n",
              "      <td>4</td>\n",
              "      <td>0</td>\n",
              "      <td>4</td>\n",
              "      <td>7</td>\n",
              "    </tr>\n",
              "    <tr>\n",
              "      <th>295</th>\n",
              "      <td>10000</td>\n",
              "      <td>6</td>\n",
              "      <td>4</td>\n",
              "      <td>2</td>\n",
              "      <td>3</td>\n",
              "    </tr>\n",
              "    <tr>\n",
              "      <th>324</th>\n",
              "      <td>9000</td>\n",
              "      <td>4</td>\n",
              "      <td>5</td>\n",
              "      <td>0</td>\n",
              "      <td>4</td>\n",
              "    </tr>\n",
              "    <tr>\n",
              "      <th>361</th>\n",
              "      <td>18000</td>\n",
              "      <td>6</td>\n",
              "      <td>3</td>\n",
              "      <td>1</td>\n",
              "      <td>4</td>\n",
              "    </tr>\n",
              "    <tr>\n",
              "      <th>378</th>\n",
              "      <td>12000</td>\n",
              "      <td>6</td>\n",
              "      <td>5</td>\n",
              "      <td>2</td>\n",
              "      <td>1</td>\n",
              "    </tr>\n",
              "    <tr>\n",
              "      <th>385</th>\n",
              "      <td>8000</td>\n",
              "      <td>7</td>\n",
              "      <td>4</td>\n",
              "      <td>2</td>\n",
              "      <td>0</td>\n",
              "    </tr>\n",
              "    <tr>\n",
              "      <th>395</th>\n",
              "      <td>5000</td>\n",
              "      <td>4</td>\n",
              "      <td>5</td>\n",
              "      <td>0</td>\n",
              "      <td>1</td>\n",
              "    </tr>\n",
              "    <tr>\n",
              "      <th>455</th>\n",
              "      <td>47000</td>\n",
              "      <td>6</td>\n",
              "      <td>2</td>\n",
              "      <td>0</td>\n",
              "      <td>4</td>\n",
              "    </tr>\n",
              "    <tr>\n",
              "      <th>497</th>\n",
              "      <td>52000</td>\n",
              "      <td>4</td>\n",
              "      <td>2</td>\n",
              "      <td>1</td>\n",
              "      <td>2</td>\n",
              "    </tr>\n",
              "  </tbody>\n",
              "</table>\n",
              "</div>\n",
              "      <button class=\"colab-df-convert\" onclick=\"convertToInteractive('df-212f72c4-013b-41ab-845e-8ddea98f8aea')\"\n",
              "              title=\"Convert this dataframe to an interactive table.\"\n",
              "              style=\"display:none;\">\n",
              "\n",
              "  <svg xmlns=\"http://www.w3.org/2000/svg\" height=\"24px\"viewBox=\"0 0 24 24\"\n",
              "       width=\"24px\">\n",
              "    <path d=\"M0 0h24v24H0V0z\" fill=\"none\"/>\n",
              "    <path d=\"M18.56 5.44l.94 2.06.94-2.06 2.06-.94-2.06-.94-.94-2.06-.94 2.06-2.06.94zm-11 1L8.5 8.5l.94-2.06 2.06-.94-2.06-.94L8.5 2.5l-.94 2.06-2.06.94zm10 10l.94 2.06.94-2.06 2.06-.94-2.06-.94-.94-2.06-.94 2.06-2.06.94z\"/><path d=\"M17.41 7.96l-1.37-1.37c-.4-.4-.92-.59-1.43-.59-.52 0-1.04.2-1.43.59L10.3 9.45l-7.72 7.72c-.78.78-.78 2.05 0 2.83L4 21.41c.39.39.9.59 1.41.59.51 0 1.02-.2 1.41-.59l7.78-7.78 2.81-2.81c.8-.78.8-2.07 0-2.86zM5.41 20L4 18.59l7.72-7.72 1.47 1.35L5.41 20z\"/>\n",
              "  </svg>\n",
              "      </button>\n",
              "\n",
              "\n",
              "\n",
              "    <div id=\"df-52453ea4-abae-4895-ba98-5148996f2a63\">\n",
              "      <button class=\"colab-df-quickchart\" onclick=\"quickchart('df-52453ea4-abae-4895-ba98-5148996f2a63')\"\n",
              "              title=\"Suggest charts.\"\n",
              "              style=\"display:none;\">\n",
              "\n",
              "<svg xmlns=\"http://www.w3.org/2000/svg\" height=\"24px\"viewBox=\"0 0 24 24\"\n",
              "     width=\"24px\">\n",
              "    <g>\n",
              "        <path d=\"M19 3H5c-1.1 0-2 .9-2 2v14c0 1.1.9 2 2 2h14c1.1 0 2-.9 2-2V5c0-1.1-.9-2-2-2zM9 17H7v-7h2v7zm4 0h-2V7h2v10zm4 0h-2v-4h2v4z\"/>\n",
              "    </g>\n",
              "</svg>\n",
              "      </button>\n",
              "    </div>\n",
              "\n",
              "<style>\n",
              "  .colab-df-quickchart {\n",
              "    background-color: #E8F0FE;\n",
              "    border: none;\n",
              "    border-radius: 50%;\n",
              "    cursor: pointer;\n",
              "    display: none;\n",
              "    fill: #1967D2;\n",
              "    height: 32px;\n",
              "    padding: 0 0 0 0;\n",
              "    width: 32px;\n",
              "  }\n",
              "\n",
              "  .colab-df-quickchart:hover {\n",
              "    background-color: #E2EBFA;\n",
              "    box-shadow: 0px 1px 2px rgba(60, 64, 67, 0.3), 0px 1px 3px 1px rgba(60, 64, 67, 0.15);\n",
              "    fill: #174EA6;\n",
              "  }\n",
              "\n",
              "  [theme=dark] .colab-df-quickchart {\n",
              "    background-color: #3B4455;\n",
              "    fill: #D2E3FC;\n",
              "  }\n",
              "\n",
              "  [theme=dark] .colab-df-quickchart:hover {\n",
              "    background-color: #434B5C;\n",
              "    box-shadow: 0px 1px 3px 1px rgba(0, 0, 0, 0.15);\n",
              "    filter: drop-shadow(0px 1px 2px rgba(0, 0, 0, 0.3));\n",
              "    fill: #FFFFFF;\n",
              "  }\n",
              "</style>\n",
              "\n",
              "    <script>\n",
              "      async function quickchart(key) {\n",
              "        const containerElement = document.querySelector('#' + key);\n",
              "        const charts = await google.colab.kernel.invokeFunction(\n",
              "            'suggestCharts', [key], {});\n",
              "      }\n",
              "    </script>\n",
              "\n",
              "      <script>\n",
              "\n",
              "function displayQuickchartButton(domScope) {\n",
              "  let quickchartButtonEl =\n",
              "    domScope.querySelector('#df-52453ea4-abae-4895-ba98-5148996f2a63 button.colab-df-quickchart');\n",
              "  quickchartButtonEl.style.display =\n",
              "    google.colab.kernel.accessAllowed ? 'block' : 'none';\n",
              "}\n",
              "\n",
              "        displayQuickchartButton(document);\n",
              "      </script>\n",
              "      <style>\n",
              "    .colab-df-container {\n",
              "      display:flex;\n",
              "      flex-wrap:wrap;\n",
              "      gap: 12px;\n",
              "    }\n",
              "\n",
              "    .colab-df-convert {\n",
              "      background-color: #E8F0FE;\n",
              "      border: none;\n",
              "      border-radius: 50%;\n",
              "      cursor: pointer;\n",
              "      display: none;\n",
              "      fill: #1967D2;\n",
              "      height: 32px;\n",
              "      padding: 0 0 0 0;\n",
              "      width: 32px;\n",
              "    }\n",
              "\n",
              "    .colab-df-convert:hover {\n",
              "      background-color: #E2EBFA;\n",
              "      box-shadow: 0px 1px 2px rgba(60, 64, 67, 0.3), 0px 1px 3px 1px rgba(60, 64, 67, 0.15);\n",
              "      fill: #174EA6;\n",
              "    }\n",
              "\n",
              "    [theme=dark] .colab-df-convert {\n",
              "      background-color: #3B4455;\n",
              "      fill: #D2E3FC;\n",
              "    }\n",
              "\n",
              "    [theme=dark] .colab-df-convert:hover {\n",
              "      background-color: #434B5C;\n",
              "      box-shadow: 0px 1px 3px 1px rgba(0, 0, 0, 0.15);\n",
              "      filter: drop-shadow(0px 1px 2px rgba(0, 0, 0, 0.3));\n",
              "      fill: #FFFFFF;\n",
              "    }\n",
              "  </style>\n",
              "\n",
              "      <script>\n",
              "        const buttonEl =\n",
              "          document.querySelector('#df-212f72c4-013b-41ab-845e-8ddea98f8aea button.colab-df-convert');\n",
              "        buttonEl.style.display =\n",
              "          google.colab.kernel.accessAllowed ? 'block' : 'none';\n",
              "\n",
              "        async function convertToInteractive(key) {\n",
              "          const element = document.querySelector('#df-212f72c4-013b-41ab-845e-8ddea98f8aea');\n",
              "          const dataTable =\n",
              "            await google.colab.kernel.invokeFunction('convertToInteractive',\n",
              "                                                     [key], {});\n",
              "          if (!dataTable) return;\n",
              "\n",
              "          const docLinkHtml = 'Like what you see? Visit the ' +\n",
              "            '<a target=\"_blank\" href=https://colab.research.google.com/notebooks/data_table.ipynb>data table notebook</a>'\n",
              "            + ' to learn more about interactive tables.';\n",
              "          element.innerHTML = '';\n",
              "          dataTable['output_type'] = 'display_data';\n",
              "          await google.colab.output.renderOutput(dataTable, element);\n",
              "          const docLink = document.createElement('div');\n",
              "          docLink.innerHTML = docLinkHtml;\n",
              "          element.appendChild(docLink);\n",
              "        }\n",
              "      </script>\n",
              "    </div>\n",
              "  </div>\n"
            ]
          },
          "metadata": {},
          "execution_count": 54
        }
      ]
    },
    {
      "cell_type": "markdown",
      "source": [
        "  یازده ردیف تکراری وجود دارد. ما می توانیم این ردیف های تکراری را از داده ها حذف کنیم."
      ],
      "metadata": {
        "id": "JukO0g6HGqaU"
      }
    },
    {
      "cell_type": "code",
      "source": [
        "data = data[~data.duplicated()]\n"
      ],
      "metadata": {
        "id": "hEidLbeT1JIP"
      },
      "execution_count": 55,
      "outputs": []
    },
    {
      "cell_type": "code",
      "source": [
        "data.shape"
      ],
      "metadata": {
        "id": "yVCv6IUj-0MY",
        "colab": {
          "base_uri": "https://localhost:8080/"
        },
        "outputId": "40af7afd-b20b-470b-e9d6-ca2c56765dec"
      },
      "execution_count": 56,
      "outputs": [
        {
          "output_type": "execute_result",
          "data": {
            "text/plain": [
              "(649, 5)"
            ]
          },
          "metadata": {},
          "execution_count": 56
        }
      ]
    },
    {
      "cell_type": "markdown",
      "source": [
        "پس از حذف کلیدهای تکراری، ردیف های تکراری و حذف ستون های غیر ضروری، 644 مشاهده منحصر به فرد و 5 ستون در داده های ما وجود دارد."
      ],
      "metadata": {
        "id": "HDyx4cOM-7Ku"
      }
    },
    {
      "cell_type": "markdown",
      "source": [
        "# خلاصه آمار"
      ],
      "metadata": {
        "id": "hVNyDnOX_Q_x"
      }
    },
    {
      "cell_type": "markdown",
      "source": [
        "# سوال 2\n",
        " مشاهدات خود را در مورد آمار خلاصه داده ها بنویسید (1 نمره)"
      ],
      "metadata": {
        "id": "IlgeOzcf_VbM"
      }
    },
    {
      "cell_type": "code",
      "source": [
        "data.describe().T"
      ],
      "metadata": {
        "id": "hjTOw2gb_lfq",
        "colab": {
          "base_uri": "https://localhost:8080/",
          "height": 206
        },
        "outputId": "e4dec3cd-401c-473e-d43b-e7e21cd26bc2"
      },
      "execution_count": 57,
      "outputs": [
        {
          "output_type": "execute_result",
          "data": {
            "text/plain": [
              "                     count          mean           std     min      25%  \\\n",
              "Avg_Credit_Limit     649.0  34878.274268  37813.736638  3000.0  11000.0   \n",
              "Total_Credit_Cards   649.0      4.708783      2.173763     1.0      3.0   \n",
              "Total_visits_bank    649.0      2.397535      1.625148     0.0      1.0   \n",
              "Total_visits_online  649.0      2.624037      2.952888     0.0      1.0   \n",
              "Total_calls_made     649.0      3.590139      2.877911     0.0      1.0   \n",
              "\n",
              "                         50%      75%       max  \n",
              "Avg_Credit_Limit     18000.0  49000.0  200000.0  \n",
              "Total_Credit_Cards       5.0      6.0      10.0  \n",
              "Total_visits_bank        2.0      4.0       5.0  \n",
              "Total_visits_online      2.0      4.0      15.0  \n",
              "Total_calls_made         3.0      5.0      10.0  "
            ],
            "text/html": [
              "\n",
              "\n",
              "  <div id=\"df-fcb67d1b-ed42-48b1-90ec-e5e1f7c5a33c\">\n",
              "    <div class=\"colab-df-container\">\n",
              "      <div>\n",
              "<style scoped>\n",
              "    .dataframe tbody tr th:only-of-type {\n",
              "        vertical-align: middle;\n",
              "    }\n",
              "\n",
              "    .dataframe tbody tr th {\n",
              "        vertical-align: top;\n",
              "    }\n",
              "\n",
              "    .dataframe thead th {\n",
              "        text-align: right;\n",
              "    }\n",
              "</style>\n",
              "<table border=\"1\" class=\"dataframe\">\n",
              "  <thead>\n",
              "    <tr style=\"text-align: right;\">\n",
              "      <th></th>\n",
              "      <th>count</th>\n",
              "      <th>mean</th>\n",
              "      <th>std</th>\n",
              "      <th>min</th>\n",
              "      <th>25%</th>\n",
              "      <th>50%</th>\n",
              "      <th>75%</th>\n",
              "      <th>max</th>\n",
              "    </tr>\n",
              "  </thead>\n",
              "  <tbody>\n",
              "    <tr>\n",
              "      <th>Avg_Credit_Limit</th>\n",
              "      <td>649.0</td>\n",
              "      <td>34878.274268</td>\n",
              "      <td>37813.736638</td>\n",
              "      <td>3000.0</td>\n",
              "      <td>11000.0</td>\n",
              "      <td>18000.0</td>\n",
              "      <td>49000.0</td>\n",
              "      <td>200000.0</td>\n",
              "    </tr>\n",
              "    <tr>\n",
              "      <th>Total_Credit_Cards</th>\n",
              "      <td>649.0</td>\n",
              "      <td>4.708783</td>\n",
              "      <td>2.173763</td>\n",
              "      <td>1.0</td>\n",
              "      <td>3.0</td>\n",
              "      <td>5.0</td>\n",
              "      <td>6.0</td>\n",
              "      <td>10.0</td>\n",
              "    </tr>\n",
              "    <tr>\n",
              "      <th>Total_visits_bank</th>\n",
              "      <td>649.0</td>\n",
              "      <td>2.397535</td>\n",
              "      <td>1.625148</td>\n",
              "      <td>0.0</td>\n",
              "      <td>1.0</td>\n",
              "      <td>2.0</td>\n",
              "      <td>4.0</td>\n",
              "      <td>5.0</td>\n",
              "    </tr>\n",
              "    <tr>\n",
              "      <th>Total_visits_online</th>\n",
              "      <td>649.0</td>\n",
              "      <td>2.624037</td>\n",
              "      <td>2.952888</td>\n",
              "      <td>0.0</td>\n",
              "      <td>1.0</td>\n",
              "      <td>2.0</td>\n",
              "      <td>4.0</td>\n",
              "      <td>15.0</td>\n",
              "    </tr>\n",
              "    <tr>\n",
              "      <th>Total_calls_made</th>\n",
              "      <td>649.0</td>\n",
              "      <td>3.590139</td>\n",
              "      <td>2.877911</td>\n",
              "      <td>0.0</td>\n",
              "      <td>1.0</td>\n",
              "      <td>3.0</td>\n",
              "      <td>5.0</td>\n",
              "      <td>10.0</td>\n",
              "    </tr>\n",
              "  </tbody>\n",
              "</table>\n",
              "</div>\n",
              "      <button class=\"colab-df-convert\" onclick=\"convertToInteractive('df-fcb67d1b-ed42-48b1-90ec-e5e1f7c5a33c')\"\n",
              "              title=\"Convert this dataframe to an interactive table.\"\n",
              "              style=\"display:none;\">\n",
              "\n",
              "  <svg xmlns=\"http://www.w3.org/2000/svg\" height=\"24px\"viewBox=\"0 0 24 24\"\n",
              "       width=\"24px\">\n",
              "    <path d=\"M0 0h24v24H0V0z\" fill=\"none\"/>\n",
              "    <path d=\"M18.56 5.44l.94 2.06.94-2.06 2.06-.94-2.06-.94-.94-2.06-.94 2.06-2.06.94zm-11 1L8.5 8.5l.94-2.06 2.06-.94-2.06-.94L8.5 2.5l-.94 2.06-2.06.94zm10 10l.94 2.06.94-2.06 2.06-.94-2.06-.94-.94-2.06-.94 2.06-2.06.94z\"/><path d=\"M17.41 7.96l-1.37-1.37c-.4-.4-.92-.59-1.43-.59-.52 0-1.04.2-1.43.59L10.3 9.45l-7.72 7.72c-.78.78-.78 2.05 0 2.83L4 21.41c.39.39.9.59 1.41.59.51 0 1.02-.2 1.41-.59l7.78-7.78 2.81-2.81c.8-.78.8-2.07 0-2.86zM5.41 20L4 18.59l7.72-7.72 1.47 1.35L5.41 20z\"/>\n",
              "  </svg>\n",
              "      </button>\n",
              "\n",
              "\n",
              "\n",
              "    <div id=\"df-c3af9e54-b673-4434-84ec-290457fd27b0\">\n",
              "      <button class=\"colab-df-quickchart\" onclick=\"quickchart('df-c3af9e54-b673-4434-84ec-290457fd27b0')\"\n",
              "              title=\"Suggest charts.\"\n",
              "              style=\"display:none;\">\n",
              "\n",
              "<svg xmlns=\"http://www.w3.org/2000/svg\" height=\"24px\"viewBox=\"0 0 24 24\"\n",
              "     width=\"24px\">\n",
              "    <g>\n",
              "        <path d=\"M19 3H5c-1.1 0-2 .9-2 2v14c0 1.1.9 2 2 2h14c1.1 0 2-.9 2-2V5c0-1.1-.9-2-2-2zM9 17H7v-7h2v7zm4 0h-2V7h2v10zm4 0h-2v-4h2v4z\"/>\n",
              "    </g>\n",
              "</svg>\n",
              "      </button>\n",
              "    </div>\n",
              "\n",
              "<style>\n",
              "  .colab-df-quickchart {\n",
              "    background-color: #E8F0FE;\n",
              "    border: none;\n",
              "    border-radius: 50%;\n",
              "    cursor: pointer;\n",
              "    display: none;\n",
              "    fill: #1967D2;\n",
              "    height: 32px;\n",
              "    padding: 0 0 0 0;\n",
              "    width: 32px;\n",
              "  }\n",
              "\n",
              "  .colab-df-quickchart:hover {\n",
              "    background-color: #E2EBFA;\n",
              "    box-shadow: 0px 1px 2px rgba(60, 64, 67, 0.3), 0px 1px 3px 1px rgba(60, 64, 67, 0.15);\n",
              "    fill: #174EA6;\n",
              "  }\n",
              "\n",
              "  [theme=dark] .colab-df-quickchart {\n",
              "    background-color: #3B4455;\n",
              "    fill: #D2E3FC;\n",
              "  }\n",
              "\n",
              "  [theme=dark] .colab-df-quickchart:hover {\n",
              "    background-color: #434B5C;\n",
              "    box-shadow: 0px 1px 3px 1px rgba(0, 0, 0, 0.15);\n",
              "    filter: drop-shadow(0px 1px 2px rgba(0, 0, 0, 0.3));\n",
              "    fill: #FFFFFF;\n",
              "  }\n",
              "</style>\n",
              "\n",
              "    <script>\n",
              "      async function quickchart(key) {\n",
              "        const containerElement = document.querySelector('#' + key);\n",
              "        const charts = await google.colab.kernel.invokeFunction(\n",
              "            'suggestCharts', [key], {});\n",
              "      }\n",
              "    </script>\n",
              "\n",
              "      <script>\n",
              "\n",
              "function displayQuickchartButton(domScope) {\n",
              "  let quickchartButtonEl =\n",
              "    domScope.querySelector('#df-c3af9e54-b673-4434-84ec-290457fd27b0 button.colab-df-quickchart');\n",
              "  quickchartButtonEl.style.display =\n",
              "    google.colab.kernel.accessAllowed ? 'block' : 'none';\n",
              "}\n",
              "\n",
              "        displayQuickchartButton(document);\n",
              "      </script>\n",
              "      <style>\n",
              "    .colab-df-container {\n",
              "      display:flex;\n",
              "      flex-wrap:wrap;\n",
              "      gap: 12px;\n",
              "    }\n",
              "\n",
              "    .colab-df-convert {\n",
              "      background-color: #E8F0FE;\n",
              "      border: none;\n",
              "      border-radius: 50%;\n",
              "      cursor: pointer;\n",
              "      display: none;\n",
              "      fill: #1967D2;\n",
              "      height: 32px;\n",
              "      padding: 0 0 0 0;\n",
              "      width: 32px;\n",
              "    }\n",
              "\n",
              "    .colab-df-convert:hover {\n",
              "      background-color: #E2EBFA;\n",
              "      box-shadow: 0px 1px 2px rgba(60, 64, 67, 0.3), 0px 1px 3px 1px rgba(60, 64, 67, 0.15);\n",
              "      fill: #174EA6;\n",
              "    }\n",
              "\n",
              "    [theme=dark] .colab-df-convert {\n",
              "      background-color: #3B4455;\n",
              "      fill: #D2E3FC;\n",
              "    }\n",
              "\n",
              "    [theme=dark] .colab-df-convert:hover {\n",
              "      background-color: #434B5C;\n",
              "      box-shadow: 0px 1px 3px 1px rgba(0, 0, 0, 0.15);\n",
              "      filter: drop-shadow(0px 1px 2px rgba(0, 0, 0, 0.3));\n",
              "      fill: #FFFFFF;\n",
              "    }\n",
              "  </style>\n",
              "\n",
              "      <script>\n",
              "        const buttonEl =\n",
              "          document.querySelector('#df-fcb67d1b-ed42-48b1-90ec-e5e1f7c5a33c button.colab-df-convert');\n",
              "        buttonEl.style.display =\n",
              "          google.colab.kernel.accessAllowed ? 'block' : 'none';\n",
              "\n",
              "        async function convertToInteractive(key) {\n",
              "          const element = document.querySelector('#df-fcb67d1b-ed42-48b1-90ec-e5e1f7c5a33c');\n",
              "          const dataTable =\n",
              "            await google.colab.kernel.invokeFunction('convertToInteractive',\n",
              "                                                     [key], {});\n",
              "          if (!dataTable) return;\n",
              "\n",
              "          const docLinkHtml = 'Like what you see? Visit the ' +\n",
              "            '<a target=\"_blank\" href=https://colab.research.google.com/notebooks/data_table.ipynb>data table notebook</a>'\n",
              "            + ' to learn more about interactive tables.';\n",
              "          element.innerHTML = '';\n",
              "          dataTable['output_type'] = 'display_data';\n",
              "          await google.colab.output.renderOutput(dataTable, element);\n",
              "          const docLink = document.createElement('div');\n",
              "          docLink.innerHTML = docLinkHtml;\n",
              "          element.appendChild(docLink);\n",
              "        }\n",
              "      </script>\n",
              "    </div>\n",
              "  </div>\n"
            ]
          },
          "metadata": {},
          "execution_count": 57
        }
      ]
    },
    {
      "cell_type": "markdown",
      "source": [
        " بیایید با کاوش هر متغیری که در دست داریم، پیش برویم"
      ],
      "metadata": {
        "id": "MEW_URPn_msv"
      }
    },
    {
      "cell_type": "markdown",
      "source": [
        "# سوال 3\n",
        " توزیع و نقاط پرت را برای هر متغیر در داده ها بررسی کنید."
      ],
      "metadata": {
        "id": "XNx3wqjx_1us"
      }
    },
    {
      "cell_type": "markdown",
      "source": [
        "توزیع همه متغییر ها را حساب کنید . 2نمره\n",
        "\n",
        "نقاط پرت را برای تمام متغییر ها حساب کنید  2 نمره\n",
        "\n",
        "مشاهدات خود را بنویسید 1 نمره"
      ],
      "metadata": {
        "id": "Ks5W2dUrnYzk"
      }
    },
    {
      "cell_type": "markdown",
      "source": [
        "کد زیر را با پر کردن جاهای خالی، قبل از اجرای سلول تکمیل کنید تا از هر گونه خطایی جلوگیری شود"
      ],
      "metadata": {
        "id": "vW_PRR9uoVtx"
      }
    },
    {
      "cell_type": "code",
      "source": [
        "for col in data.columns:\n",
        "\n",
        "    print(col)\n",
        "\n",
        "    print('Skew :', round(data[col].skew(), 2))\n",
        "\n",
        "    plt.figure(figsize = (15, 4))\n",
        "\n",
        "    plt.subplot(1, 2, 1)\n",
        "\n",
        "    data[col].______________\n",
        "\n",
        "    plt.ylabel('count')\n",
        "\n",
        "    plt.subplot(1, 2, 2)\n",
        "\n",
        "    sns.boxplot(x = ___________)\n",
        "\n",
        "    plt.show()"
      ],
      "metadata": {
        "id": "C4g-2t25oZdF"
      },
      "execution_count": null,
      "outputs": []
    },
    {
      "cell_type": "markdown",
      "source": [
        "# بررسی همبستگی"
      ],
      "metadata": {
        "id": "bZScBet9rh0d"
      }
    },
    {
      "cell_type": "code",
      "source": [
        "plt.figure(figsize = (8, 8))\n",
        "\n",
        "sns.heatmap(data.corr(), annot = True, fmt = '0.2f')\n",
        "\n",
        "plt.show()"
      ],
      "metadata": {
        "id": "I5seBB7esAZJ",
        "colab": {
          "base_uri": "https://localhost:8080/",
          "height": 796
        },
        "outputId": "dfdfd151-1b89-43de-bcf5-75eb51e49326"
      },
      "execution_count": 59,
      "outputs": [
        {
          "output_type": "display_data",
          "data": {
            "text/plain": [
              "<Figure size 800x800 with 2 Axes>"
            ],
            "image/png": "[encoded data removed]"
          },
          "metadata": {}
        }
      ]
    },
    {
      "cell_type": "markdown",
      "source": [
        "# مشاهدات\n",
        "\n",
        "\n",
        "- Avg_Credit_Limit با Total_Credit_Cards و Total_visits_online همبستگی مثبت دارد که منطقی است.\n",
        "- میانگین_ اعتبار_محدودیت با Total_calls_made و Total_visits_bank همبستگی منفی دارد.\n",
        "- Total_visits_bank، Total_visits_online، Total_calls_made همبستگی منفی دارند که به این معنی است که اکثر مشتریان تنها از یکی از این کانال ها برای تماس با بانک استفاده می کنند."
      ],
      "metadata": {
        "id": "mSvbj156sL7S"
      }
    },
    {
      "cell_type": "markdown",
      "source": [
        "# مقیاس سازی داده ها"
      ],
      "metadata": {
        "id": "dgkz8QWOt-OM"
      }
    },
    {
      "cell_type": "code",
      "source": [
        "# داده ها را استاندارد کنید تا میانگین ~ 0 و واریانس 1 داشته باشد\n",
        "scaler = StandardScaler()\n",
        "data_scaled = StandardScaler().fit_transform(data)"
      ],
      "metadata": {
        "id": "eh9BMjtSuTri"
      },
      "execution_count": 60,
      "outputs": []
    },
    {
      "cell_type": "markdown",
      "source": [
        "# استفاده از پی سی آی  روی داده های مقیاس شده"
      ],
      "metadata": {
        "id": "6MmTO6hkus_Y"
      }
    },
    {
      "cell_type": "code",
      "source": [
        "from sklearn.decomposition import PCA\n",
        "\n",
        "\n",
        "n = data.shape[1]\n",
        "\n",
        "# Create a PCA instance: pca\n",
        "pca = PCA(n_components=n)\n",
        "\n",
        "principal_components = pca.fit_transform(data_scaled)\n",
        "# Save components to a DataFrame\n",
        "\n",
        "data_pca = pd.DataFrame(principal_components, columns = data.columns)"
      ],
      "metadata": {
        "id": "2QrvG65hvRo4"
      },
      "execution_count": 61,
      "outputs": []
    },
    {
      "cell_type": "code",
      "source": [
        "# ایجاد کپی از داده ها برای ذخیره برچسب ها از هر الگوریتم\n",
        "\n",
        "data_copy = data_pca.copy(deep = True)"
      ],
      "metadata": {
        "id": "qRVDniOBvrpl"
      },
      "execution_count": 62,
      "outputs": []
    },
    {
      "cell_type": "markdown",
      "source": [
        "# k-means"
      ],
      "metadata": {
        "id": "f2wMvlMzv8Kk"
      }
    },
    {
      "cell_type": "markdown",
      "source": [
        "![Screenshot 2023-08-13 091107.jpg](data:image/jpeg;base64,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)"
      ],
      "metadata": {
        "id": "4Q74ez-hafo2"
      }
    },
    {
      "cell_type": "code",
      "source": [
        "#stp1\n",
        "sse = {}\n",
        "\n",
        "# step 2 - iterate for a range of Ks and fit the pca components to the algorithm.\n",
        "for k in range(1, 10):\n",
        "    kmeans = KMeans(n_clusters = k, max_iter = 1000, random_state = 1).fit(data_pca)\n",
        "    sse[k] = kmeans.inertia_     # Use inertia attribute from the clustering object and store the inertia value for that K\n",
        "\n",
        "# step 3\n",
        "plt.figure()\n",
        "\n",
        "plt.plot(list(sse.keys()), list(sse.values()), 'bx-')\n",
        "\n",
        "plt.xlabel(\"Number of cluster\")\n",
        "\n",
        "plt.ylabel(\"SSE\")\n",
        "\n",
        "plt.show()"
      ],
      "metadata": {
        "id": "yisQpeAAyG2t",
        "colab": {
          "base_uri": "https://localhost:8080/",
          "height": 449
        },
        "outputId": "03c36e1e-e4b8-4ef3-d486-4f40dfb7a307"
      },
      "execution_count": 63,
      "outputs": [
        {
          "output_type": "display_data",
          "data": {
            "text/plain": [
              "<Figure size 640x480 with 1 Axes>"
            ],
            "image/png": "[encoded data removed]"
          },
          "metadata": {}
        }
      ]
    },
    {
      "cell_type": "markdown",
      "source": [
        "# سوال 4\n",
        "\n",
        "![Screenshot 2023-08-07 215626.jpg](data:image/jpeg;base64,/9j/4AAQSkZJRgABAQEAYABgAAD/2wBDAAMCAgMCAgMDAwMEAwMEBQgFBQQEBQoHBwYIDAoMDAsKCwsNDhIQDQ4RDgsLEBYQERMUFRUVDA8XGBYUGBIUFRT/2wBDAQMEBAUEBQkFBQkUDQsNFBQUFBQUFBQUFBQUFBQUFBQUFBQUFBQUFBQUFBQUFBQUFBQUFBQUFBQUFBQUFBQUFBT/wAARCACkAkYDASIAAhEBAxEB/8QAHwAAAQUBAQEBAQEAAAAAAAAAAAECAwQFBgcICQoL/8QAtRAAAgEDAwIEAwUFBAQAAAF9AQIDAAQRBRIhMUEGE1FhByJxFDKBkaEII0KxwRVS0fAkM2JyggkKFhcYGRolJicoKSo0NTY3ODk6Q0RFRkdISUpTVFVWV1hZWmNkZWZnaGlqc3R1dnd4eXqDhIWGh4iJipKTlJWWl5iZmqKjpKWmp6ipqrKztLW2t7i5usLDxMXGx8jJytLT1NXW19jZ2uHi4+Tl5ufo6erx8vP09fb3+Pn6/8QAHwEAAwEBAQEBAQEBAQAAAAAAAAECAwQFBgcICQoL/8QAtREAAgECBAQDBAcFBAQAAQJ3AAECAxEEBSExBhJBUQdhcRMiMoEIFEKRobHBCSMzUvAVYnLRChYkNOEl8RcYGRomJygpKjU2Nzg5OkNERUZHSElKU1RVVldYWVpjZGVmZ2hpanN0dXZ3eHl6goOEhYaHiImKkpOUlZaXmJmaoqOkpaanqKmqsrO0tba3uLm6wsPExcbHyMnK0tPU1dbX2Nna4uPk5ebn6Onq8vP09fb3+Pn6/9oADAMBAAIRAxEAPwD9U6KKKACiiigAooooAKKKKACiiigAooooAKKKKACiiigAooooAKKKKACiiigAooooAKKKKACiiigAooooAKKKKACiiigAooooAKKKKACiiigAooooAKKKKACiiigAooooAKKKKACiiigAooooAKKKKACiiigAooooAKKKKACiiigAooooAKKKKACiiigAooooAKKKKACiiigAooooAKKKKACiiigAooooAKKKKACiiigAooooAKKKKACiiigAooooAKKKKACiiigAooooAKKKKACiiigAooooAKKKKACiiigAooooAKKKKACiiigAooooAKKKKACiiigAooooAKKKKACiiigAooooAKKKKACiiigAooooAKKKKACiiigAooooAKKKKACiiigAooooAKKKKACiiigAooooAKKKKACiiigAooooAKKKKACiiigAooooAKKKKACiiigAooooAKKKKACiiigAooooAKKKKACiiigAooooAKKKKACiiigAooooAKKKKACiiigAooooAKKKKACiiigAooooAKKKKACiiigAooooAKKKKACiiigAooooAKKKKACiiigAooooAKKKKACiiigAooooAKKKKACiiigAooooAKKKKACiiigAooooAKKKKACiiigAooooAKKKKAOQ8F+Pj428ReLLWzsNmjaHeLpiao02TeXaruuUWPbwkRaOPfuJaQTLtURhn6+vk/4f+GfHmp/AG68NeC5bTTfF2k+N9eTVZL3V57Boma+vbiGdJY4JvMbdPZT+VLG0UsZaOQFWKnsfjB8ePDlv4R1PwNoXjY6h8W51Ol6fo+glTrH9pKpZJZLUAtDBmPzHkkUQ+UclirKWAPdtT1CLSdNu76dJ3htYnmkW1t5LiUqqliEijVndsDhVBYnAAJOK4PXvjXpnh34meAvCN5puowp4ytbuXT9Vmt2igW4hRJRayBgGSV4jK4Vwp/dEYJzt89bQf2h4viRb+LfL8G3ti0Elu/hf/hKL62s7WM8BQ409xcSl0SXzzFEyh5IgpX5z1ui/CG9Pw/8AhjpOqRWK6l4Sv7a9ULdy3aW/lRSxBYppEV5CIpTHvdVJBYkDpQB1ej+PjefEbXvB1/Yf2ffWVtDqNhMs3mJf2UmUMg+VdkiTJIjR/NhTC24+ZtXr68K8bXiw/tX+F9SiiuJIPDfgXWrvV2s4JbiXybi6svs0awxKzyszWdyVRFLMYiACdoO58UrHx/4i1LRbjwp4S8LajbafcW+o2eqa34ju9MvIZAf30YhTT5toeIvEcvnEjZTjBAOp+JHxW8P/AAp0e71TxE9/BY2tnNfST22m3FxGEjKAqZI0KLIxkUJGzBnJO0Ha2LvgfXtd8SaZPfa54Xm8Is0xW10+8vYbi78oADfOIC8MbFt+FjllGzYSyszRp852nhD4iePbJWh8JfDHxR4eg8R6lfy2X/CwL29s5GniuLe8spl/spkdRLPMxRgVVwBsBXNet/APwj4v8C6Tqei69pei6J4dt5I/7B0vSdduNWFjCVIktxJNaW7LCpCmKPD7AzIpWNI0UA9RlcxxO6xtKygkRrjLewyQM/U1j+B/ET+MPBega9LYvpkmqafb3zWUjh2tzLGrmMsOCV3YyOuK+f8AX/jr8PvEHhdjYeKtLHxsu7ZtLtdL03yX8RW12ZvN/s54VUzRwpKgWTeoUJGzuwxvqz4ttviL4RsPCuhLpnw/trbStajOgalqvjq7064vRF5h8owDTWHmPaeerIskgALt8wWgD3rxl4gPhLwjrmuC1e+OmWM96LWNgrTeXGz7AT0J24z71oaffRanYW15A26C4iWWNvVWAIP5GvNvg3pdxq3wjuDdXGjXMeuz6hfwyaFrMmr2Jju5pJR5d08UZlUmUnIQAZwMgZPI+NPjF4L+Hfwzm+Hdx4za4+IFto66NBofh1/+J/c3X2bYjWtr/rFLEbllIEag7y6qCwAPZPFnjLR/A9lZXet3n2K3vNQtdLgfynk33NzMkEEeEBI3SSIu48DOSQATUfhvx3ofi/VNesNHvvt8+hXf2DUHjhk8mK42B2iEpXY7qGG5UZihO1sHivIv2l/B/ifxx8E/CWjxvqMfiKTxJ4ae8vtDhEk9kyajatPdRjYygRYeTcylFCZIwDXMeEPAvi2T4P6f8OE8Fm01vwXeLYyzW3i3V/CtjqsJiLJqEF5ZRSyXBmLlpYpCWWYyF2J2O4B7z48+Jug/DeGwbWX1CSa/laK1s9I0m71S6lKqWZhBaxSSbFAG59u1SygkFlB0fBvjDRviD4U0nxL4d1CLVdD1W2S7s7yHIWWJxlTggEH1UgEHIIBBFeFXEOt/DbwFb6LrbeOvBk2oajNcf2t4F1HUPH80arFGqxSy39hPPCshLkKkHlqYCfMVpNrdL8CfCOuT/su6Z4b1DT18HapPpt5ZW8bW8jPbwvJMtrcTQyyu/nPEYppI3k3CR3ViDkAA9prndD8XNqknicXOm3FiNEvmtCMec9wggimEqLGCTuWUYUZbjGM/KPN7fx98XbTVbXw9N4S+GD681mbtbCPx9eQzSwIyo86QHSGZYw7oucsFLqCxJGeU0j4S/E3wn4F/4RPT9D8P32l3kdpJctB491PR7m1aG3ht1tormDT3meMJbQ/vg8TtlgVAzuAPaNf+Knhnwt4b0zW9WvptPt9UVDYWc9lOuoXTsnmCGKy2faHm2gkwiMyDa2VG04ZffEuxtfEei6OlnfeZqOsTaL511aTWqLNHZS3ZMZkRfOUpEQHjyhIcbsoVrw7QfBP7RMHww8QeBvEll4N8Xafe2s2n2WqXvjW+h1KG1eIxhbiePSQLiRcn96FjZhjdubLnsfCvwz8cav45sfE/i210PQZ7K/s70Wuja1c6qlxJHY31pLKTNaweU7pdQrhQeIcls0Ae4V5dpvxE8VX3wQ8S+Jv7J0s+K9LXWIoLCO4la0lns57iFAzFA4DGAEgA4yQCetS+NviPH8P/AIhQPrWmeKrjRptL22U+gaHfatbmfzj56zRWcMrI4UW5RpFAIaUIchxXkFi3xAu9Y8NvZeFPCumRX2r6xrOkaP4q8Y3Ol6rf2dysxnilso7CYJ81xHOy73ZPkDrG5IUA+ntF1A6to9hfFY0NzBHMVicug3KDgMQNw564GfQVdrxH4e+CfiJpGseAItc0LwtBbeHdLTTbzxBp/iG6mvbyMWgR4/szWMaFDcLG/wA0xwEyBklazP2p/jpB4S8G6x4b8G+N9L0v4rNJbJp2hrPG2q3LSOhVLe3a3uSxcHbvMDoBv3NHgyRgH0DWfr2t2/h3Sp9Ru47yW3h27ksLKa8mOWCjbFCjyNyRnapwMk4AJrm/iFbeJNW8E/2dp3hfw74qm1GE2mqaV4h1SWxs3gkiZZV3Ja3PmAk7djIAVY5bjB8Nm0T4qalqkHhy/wBE+H9/rCeEJtHv9Pk+JGoG8vLOVo40u5FOll8hopl8wgktK/zgjBAPY/BHxaf4keJtRg8PaBczeFNNurrT7jxPd3EUUFzdQOYpI7SEFpZAkqSxu8ixLlMxmVTmvQ6+efhf8NfiN4R8f6ZrD+EfBXhi1vEKeKp9D8T3dz/bEnluRdtatpsKG6MxBM5k3sjMrmTbGU9F+IXx8+HnwvupbDxV4v0/QdUMSyQadO5+3XYY7V+y24BkuSW+ULErksNuM8UAeg1neINUudF0e5vbPSL3XrmIApp2nvAk82WAIUzyRxjAJPzOvAOMnAPyz4ZuPjZdyeFvsWneEbXxjbeF7uGztfFvjW5GrvZzTWxiub6yj091MsZhiSRg7/PJIBICxzrfE7wl+0r4+sdatrCHwZ4cW7t3gtFsvG+pxLb5Nsyszw6bFMzK0M/zRyRErcbc4T5gD3/wv8QfD/jXUNWtNB1FdVOlyCC6ubWN3tVl3OrRLcbfKkkRo2DojFozgOFLLl/g/wAXR+LotWZLd7V9N1O402SN2BJaJsB+OzKVYD0YVwvwj8N/EK18T3ut+PLHQrO8l0Wx0t5NE1251AXckDzMZmjltLdYcmZjhd5O7k/KMu1Hxx4K+AWqeJ7vxt4z0bw1beINSbVrL+17hLRWVbW3ikjRnwJXDws+1ctiRePUA9I1651Cz0PUbjSbKLU9VitpHtLKe4+zx3EwUlI2l2t5as2AX2ttBzg4xXlXiP8AaGuNF0eyurfwRql9fNYanPqOlG7tYrnSrmzt0mNvOpkwd4cBZIi4IeJ1DRyB63/gVrF/4i8H32rXR1htOv8AV7260k69CYbw2TzM0bNGwDIhJdo0cBliMQKqRtHG2fg3XvGvx28dalrXgy78O6NN4fl8N2WszXdvMl9CXVjMiRXLMjOWcFXiQhYISXJbZGAe70V4b4Zm8b6p8VPCen+JrTwVo+paHp8888Wi+L7m8v7mylTyixsnsYAImnjhbeXYK0W0ZJyPEf2kPhrrXiT4zeNZ9c/0TT77TrFPC/iFfhzqniy70lkjfzJLCexmH9n3Ec/73LR5ctCd0gTagB9J337QPh7T/FGp6DJZam15p/iWx8LSusUflm6u7SK7idT5mfLEcyhiQGDAgKRgn02vin4pfD/WLjxJ4+m1bwnr3iTRpPiX4f1G5XT9Nlc39jDodnHczIiY82IMkiMqbtxDR4ZjsNFfAFtGk95H8PNdX4AS+Olu5fBMfh+5UvbDSxGLg6N5QmNp/aIEht/K5ZRP5RUbqAPuSiviL/hEfFHw38KzfEDwH4K1VLDR/F+oS+FvCcemzRXMej32nx27xpZlQ9tE2oqt15TImxFJYKDhej+Efga6+Fvjm30bxJBf2XgP4R219cWGvahBL9nu21BYHW4WduGW3R9RikPSMMC5VcEgH03468XR+BfC91rc1u91DbyQrIiMFIV5UjL5PZQ5Y+ymt+vnLxN4y0n9pPxJqHhz4c+LG17SF8PalY6rqulyJdaHBcTLCbVWmXKSXKt8wWNiUj8zftLpu6bXNa1PwV8SpPG/ji18G+CPCFrbz6U/iRvE0xkuoGlDWouo5LOGGIhgxUtO/ltPIiE+cxYA9nrPj1y3m12fSFjvBdw26XLSNZTLblHZlAWcp5TPlDlFYsoKkgBlJ+WvCvi/4zfGyP4hf8IV4h8M6p4Gn1eaHR/FTX88QkhieTdaWfk2MeY2Ait2vFmm8pzPJE0rKI4/RvhH4O+KVl4l8L3nj210H/iR+H7nR5NU03xLd39xqDySWrLJLBJZW8YfFsSZNzHLtgAOcAHt9FFFABRRRQAUUUUAFFFFABRRRQAUUUUAFFFFABRRRQAUUUUAFFFFABRRRQAUUUUAFFFFABRRRQAUUUUAY2meD9J0bxHrWu2VqbfU9aEH2+RZX2TtCpSNzHu2B9hClwoZlSNWJEaBdmiigAooooAxtI8H6ToWua3rNnasmp61JFJfXMk0krSeXGI41G9jsRVBwiYUM7tjc7E3tW0mx17SrzTNTsrfUdNvYXtrqzu4llhnidSrxujAhlZSQVIwQSDVuigCvp+n2uk2FtY2NtDZWVrEsMFtbxiOOKNQAqKo4VQAAAOABViiigArM/4RnR/+Ek/4SH+ybH+3/sn2D+1fsyfavs2/f5Hm43eXv+bZnGecZrTooAKKKKACiiigAooooAKKKKACiiigArMtPDOj6frmoa3a6TY22s6gkUV5qMNsiXFykYIjWSQDc4Tc20MTjccda06KACiiigArM0fwzo/h2bUptK0mx0ybUrlr2+ks7ZImurgqFM0pUDe5CqCzZOFAzxWnRQAUUUUAZul+GdI0O91O803SrHT7vVJhc39xa26RSXcoUIJJWUAu21VXc2TgAdq0qKKACiiigAooooAKKKKACiiigAooooAKKKKACiiigAooooAKKKKACiiigAooooAKKKKACiiigAooooAKKKKACiiigDzGbx5e6x8dLnw1Zakmn6D4U0aPVdeZkQ/aJrsypawl3HyJGlvPM+3DEmD5godX9F0zU7PWtNtNR067gv8AT7uJLi3urWRZIpo3UMjo6khlIIIIOCCDXheveFxb/Hzxpomo6nd6Tp3xO8MwW2n6jYukc8F3ZC4S4iiZkZfMMFzFKgYHIhmO1gjY1obbxD8BvD7+HvB3gDXPiNJcPc6j/a39o6XZLNfTzSSym8yYBEGdw263gk4LHZuGGAPUZfFuhwafpd/JrOnx2OqSQxafdNdRiK8eUZiWJs4kLj7oXO7tmqfhHxUfEV14hs5/7PS+0fU5LCaHT7t7jYuxJYTIWij2yNDLE7IoZVLbQ74Jrwmx/Yy/tvwzp6eJvHviCy1qGWS6ht/Dhs4tN0Zpp2uZ7axiltGBh80x7ZJw8qi3i2NEC6t7T8Pfh/P4FXVpLzxVrXi6+1O4W4mvtbjs45BtjWNVVbW3gTAVRyVLepxgAA8g+CHjv4qeJvjp8UvBfjjV9Is7Hwpc+fpsOmaQyT6hp960r2M7XDysh8pY5ImRYQd8Y3SPzu9H+B/ji/8AFWh67pOuXUd74k8K6xcaDqN0iKhuTGFkguGRQFVpbeWCRlUBVd3VeAK6lfCel6f4x1Lxecxaldabb6dczOwCfZ4JJ5Y88cYa4lOc45rzj9mqyfUrTx546BP2Lxx4lm1jTem2Swjggs7WdfVZorVZ1P8AdmWgD0TVvH2g6HLrceoX/wBkfRbD+1L0SwyDZagOTKvy/vFGxs7N2CMHBIBxvDPxo8L+LPiJrfgmxupRrumW0d6qyxFYb62YJme1k+7NGjuInKnKP8rAZUnz34mfDfW9FYazJ8T/AIpaveXLTadZaVoGj6HcsRPhzBltM2RRnyUHnXMiIuFDSru5k+G/7Inhv4caxpGuad4h8USataPPcTS39xau1zNLHOgaRUgCJ5YupyEgEcbu5kkWV8PQB7LpfiTTtY1HVLC1nL3mmSrDdwSRvG0bMgdSAwG5SDw65UkMAcqwFu81C109YmurmG2WWRYYzM4QPIxwqDPVieAOprkvAPw6vvBuqarqGpeN/EHjS81CG3t/M12LT4/s6QtKyiMWlrAOTM2S4Y8LjHOeE8aXHjr4rX2meEZfhpJoGjw6nbXup+JNcv7K4tQtrdRTKbCOCZ5pJJGj/dyTxweWAHZdw8ogHoHwi8R6h4r+G2g6lq5VtXeDyr1kTYrXEbGOUhewLoxx71z/AIT+LQ8VfF/U/DcWs6E+nw6YL6xtLGK5uJ76JhbuLoXZVLcKq3EYaCLzmxPBIZEDhDDrmqeI/hjZt4e8HfC/UvGFtKZJ7a6j1extrJJZ5nklW6aaVZY1DuzfuYZvlIwCflrmPgf+yhY/CzxLYeMdR1ddQ8Xf2e9pdJY6Tp1rZxmQoWjhkjtVu2hj2BI0mnk2oqg5IGADP+IXir4wSftKW3gTQvEnh/wp4Z1bRRrOkajf+HpNUkmltJ4lvLR8XUATcs0R6MShbayMBX0BotreWOj2FtqF9/ad/DBHHcXvlCL7RIFAaTYvC7iCdo4GcVU1DwtY6l4m0jXZg5vtLiuIbfGNoE2wOTxnOIxjBHU9eMN8Xa1qfh/RXvtK8P3Xii4jdd2m2FxBDcyITgmIzvHEWBIOHkQbQ2CSArAB4g8Z6F4W0/Vb3VdVtbK20q3W6vmkkGbaFt22SQDlVOx+SMfK3oayPhb4k1HxNoWqy6sVN7aa7qtj8ibR5MV9Mlv9T5Ahye5zXi3iH4d+O/izrWteJNX07xJ8N7LVrWLw2NE8NzaLcatc2LSyiS51GW5WaBUUSEpFbSPIqmQ7nZxGnpnijVtd+Fcd+nhL4aax46bUXuNR3aXqdhbgXjsxKT/ap4fLQ/uwrxCU4D7lBAMgB2o8ZaG2oaTZJqltJcasJjYiNw63HlAGQIw4JUHOM5wG9DjktQ+IF34Lf4k6hq/2jXLHRvJvdO0zSbLdetG1qgFpEu79/NJPHLsGQSZkTsCeL+FPwc8R+F/FGkSeINV1gxQT3/iI6Vo66avhmyvrqW4D28JMK6g7BbqV97kRsSzHYSIx1XxQ+AenfFbV47m/8SeINKsGNk15pejzW8EV61pcG4t3aYwtcQukhyJLeaJxgYYEAgAXU/2jPA1r4J8L+KNP1iPWdP8AEzwf2VHZq7T3ETzRxyy+Vt3qsPmgy71Xy8bX2Hiuh+Jdx47ttHsZPh/ZeH9Q1Vb+E3dv4jup7aF7PnzRHJDHIVlPygMUZQCxKtgKeF0v9kX4b2fhOXQr/RoPEBXz1sdT1SytHvNLSWJYtlnIkKiAIiJtKAEldzFnLMYtQ/Zv1zVLy6urj45fEZprmKCGRkj0NBthkaWIqF0wBWDux3KAx4BJAAAB7Jpt4uoada3SvDIs8Syh7aXzYmDAHKPgbl54bAyOa5zwX8QtO8c6x4kt9J1bw9q9lpF0tmZdF1hb2eOUL+9juolQC3kVwVCb3JAydp+WvA/ih8IfEvj7QfAnwx0nwv4i0bT/AArrFpcRePLq70U2yQW8bgXEcGyV2uCCuxRawBJDkSKikSdbZ/slpa/EzQPHjfFLxrJ4h0aA2UcsVvolql1ZnGbS5FvpsZmg4+VHJ8s/NHsfDUAez+JfE2m+D9Gm1bV7g2mnQvGs1x5TusQeRUDvtB2RqWBeQ4VFDO5VVZhyHhv4kDT/AA54m1HxXci2h0fX7rT5LpLdykUBuALd32A7UWKaLfKcKqqzuVVWYXviX8O7/wCIlitlbeOPEHhGzaGWC6h0SDTpBdpIACJDd2k5GBkDYV+8c54xj+KPgi2uWN/aaX458S+FINTkll1NdJj06X7e0kMUJMhurSbbhIgP3ezlmJycYAO58TateaHod1fWGiXviK8iC+XpmnyQRzTEsB8rTyRxjAJY7nHCnGTgHibrx7qWufCnw54o0280uxmvr3S3uWsZHvrfyJLyFLiKN3jiYkozruaNWU5yoYccL4c/Y303wb4v1bxd4f8AiF4q0TxdrKeXq2uWen6EtxqC7y480HTDHu3EszoitISDIz7U2+o2XwxtrX4bT+D5dZ1S9WZZy+sTeQLzzpZWlM4CRLCHWR9ygRBBtA2YGKAOhTxFpsniKbQRdx/2vDapfNaHIfyHd0Vx6jcjA4zjjONy54DVv2mvhxofie/0C91+aPUNN1CDS9QddLvHtrC5m8ryEublYjDAJDNGEaR1ViSFJKsA/wCH3gHWND8eapqGt+J/GPid7K1FlZXviJNHjtZkmMckrQLYwQyZVokU+eowQdgIJY+FWPgfxr8UNb/aE8HaRHoEPhTWfHcMGpanfXUy31ki6ZpLTGGBYWjnLxAKm6SLy2+Y+YPlAB9CSfHjwRD4yufDD6vMuoW0zWtxc/2fc/2fDOsPntA995f2ZJRH85iMgcDtU/gP40eEviTrF/pWh3l6dSsreK8ktdS0m7095LeRnWOeIXMUfnRM0bgSR7k468jPC+Gvhz8TfBV34w0HQr3w1aeHdZ1bVNatPEcsk0mo2cl5vlERsjF5TmO4kJEpnwY1CmLPNYH7PvwF8b+A/ifN4t8Vz2uH8Nx6LJH/AMJdqniKee4WcSvc+bexoIUfn9zGoVSuctuwgB9FXt7b6bZz3d3PFa2lvG0s08zhEjRRlmZjwAACST0xXnfhX4pW3izxtPNZam48MtpLyi11HTJ9Pntp4JR50r+eqPseOeArlQNq7wWDgjjfiRN45WHx/oVn8O/Eutvq86zaX4g8OarpEEWwQQiNJftswaLbKjqy/Z50KHdhy7RjSn+BPiLx58NdK0rxv481iDxKLPUNP1LUtHTTpjd2l3Jl7WTztPETqsaQp5iW8LN5W7C7mFAGro/7S3gvXfhfeeNoLm6tYLSeTT5tHv7V4dSj1BF3fYDbYMhuGyu2NVYsHUqGDAnU1TxZb+Kl8K2Vr4v0vw7H4s0q6ktdPkwNVvMwI6y2T+cu0wK5d/3Uv3kOUxlub8Nfsk/DjQV1K31DSF8YaXdPbyQab4sih1OGyeJrhhJG0sZkaVnurhmlleSQ79u4KqqMLUv2Por7WvDeo2/xY+IGlL4ab/iTWdg2kpBZxhWSOIqdPJnSNGZU+0GUqGYg5ZiQDq/hh8StRv8Aw78KNPv4LrVr/X/Dcd/qGrvG58qZLeFm83yYfLRpHd/vmFSUYJuI2D0r+3dNOuHRhqFr/bAtxeHT/PX7QICxQS+Xnds3AruxjIxXzN8XfhL4m8a+BNE+EGleF/Eps9Pv4WTx/fX+j/ZI4xHITcmIh5JJVEh2xrZxbZlVo5IwiTV6R4J/Zt07wZ8SE8cN4v8AFGu660M6XbatNaOl5JKEVpnEduhjPlw28YjhMcOLeM+Xv3OwB6xe3tvptnPd3c8VraW8bSzTzOESNFGWZmPAAAJJPTFZHg3xtpPj3SX1HR3uzbpK0DrfWE9lMrAA8xTojgFWVgSuGVlYEgg15B8SJvHKw+P9Cs/h34l1t9XnWbS/EHhzVdIgi2CCERpL9tmDRbZUdWX7POhQ7sOXaMQeMLH4kx/BK58C694V1r4m67rWl3dvdazpWpaRbwxPNJLsgneeO3VkSNokMiWTrIqsWg5KMAe+ahqFrpNhc319cw2VlaxNNPc3EgjjijUEs7MeFUAEkngAVy/xM8SX/hWx0G8syohm13T7C7ym4+TcTrBx6fPJHz9a8ig0v4jeE/g/pfwk034dJ4hvIdHh0Q+J9RvbFPDyp5ARpXhWRbllTp5CWyq20KHRTvX2ebwHY3XgzSPD14XvoNMawmieRtrSS2csU0LsQD/y0hQn8aAN651C1s5rSG4uYYJbuUw28ckgVppAjSFEB+82xHbA5wjHoDXmPxe/aE0f4L+LvD+l67aSHT9U0rUtRN5AxeYSW0tlFFbRQKpM0s73yoigg7goAbdxj6xceOvi14i8NaPefDebwfoWl6nb6vqGu65qFlcSGS2kWSKPT47aWViZHXa0s3k7YmcbGZ8Kz49fs3x/HT4h+CtWvbmOy0/w/pmqxQ31u5TUbDUJ5bCS0vLQ7CqvE1pISSR94KQyswoA9V8E6trOu+E9M1HxBoi+G9YuohNPpK3YujaZJKxvKFVWcLt3bQVDbgrOAHbzDSv2yvhJrlvps+n+Ir69TVrY3WleT4f1Jm1ZFKCRbJRb5u5IzIvmRwB3iw+9V2Njo/CPw31PUI/Dmv8Aju/u5fHGmwC3uW8P+IdSt9IuSjuFmNkJUgYupDsrxttLbNzhFY8N8J/2fvEXgTTPgJbX95pkz+AfD11pOpm2lkYTSywQRq0GYxuXMTZLbTgjg9gDtNQ/aS+H2n+H/D2sprF5qdpr9m+oadDo2j3uo3UtugXzJWtreF5o0QuquZEUIzBGwxxTvEf7R/w88LW+m3N7r7zWF/Z2+opqGnafdX1pBaznEFxcTwRPHbQyc7ZJmRWCOQSEYjw8fsl+MNGbw7qttcWutanZw6tY3en2/jPV/DcZhudUmvbeRLuxjMjlFl2NDJGVJIKsNnz5/wAXf2R/H3jD4e3fgzw02m6T4bn8KQaNp2jt421e3tNBuVWbz8pDD/xNI5N8Q33W0qI8+WcsrAHvmu/tLfDvw34w1HwzqGt3EeraZe2un6j5elXktvp81ysLWwubhITDAsguI9ryOqMSwByjhd3Svi34b1zxxqHhPTpdSvdW0+RobuaDRrx7CGURrI0TXoi+zCQK65TzNwJxjPFeZeNPgD4j8Q6P8eLWzvtNhn8eajZXmlvJNIogWGwsbdvOIjJU77WQjbu4KnIJIGho/wAKfFdj+0BJ4ssbLSvCHhqWW6m1SPSvEN5df8JAzxLFE8+nPbx21vOCkTtcI7yEQrGWZWJAB7fXmGj/ABYs/GXxA0WHw5qxudC2XtpeQTabNCLmbbDLb3NvPIqiWHYlwBJFvjk8zIf5Oc34iXfijTvE3ia2i8A+IvFeka3pMVlb6p4V1DTYLizGJlljZby5g2sDIHWRN+d2GC7BuoeBfhT478QfDPTrbx14x1bRvFMF+b+yudLfTLq50yFrbyTaNJ/Z0VtMMNKSfsoxvChm8tXIB3Pwy+MXhz4sN4gi0SW5ivdC1CTT76xvoDBOmCTDOqn78E8W2aGVcq6OOQwZVf4k+IF54f8AHnhzQX0VYtM1af7ONbvr6OGJ5jDPKLe3jXfJJNiAsRIsUewkrIzjyz49efsw6P8AB3wPqMXhDVNY8m+sLLw7eLqBgvRFYyS21vd3IV4v3kq2seEWQvDCI1WOARgxPNH+zKnws8ELb2Pxc+JFp4e0e5bU7fTtJ0nR7traQuzkW9vDpLvtBdsQxLtAOFQDigD3nRfFekeINDbWNP1CC50tXmRroNtRWhkaOUMTjGx43U56FTVu4lF9pMklncORNAWhuLMxs3K/K0ZbKE8gjdlemeK8L0TXPiB4K8DReHtD+GPifxbqF9LNPFrHizVNGtoQ11cvJK+oi3kVo9jSyOUtraXMYjH+sZ1TivHHwc8XeNvBPw1+FVt4W1fQ4vCGoWD/APCcw3OkrpsUVrAyefa20huZjJ90RIYIjGxB84Kh8wA3v2NdLvtc03U/HHiHxFcan4u1CNLXU9G1G1mjv9Fkz532e6NyBMkuJFbZDHa2hDB4bZVcO3U/s+eK/EFxeN4Z1vVrrXU0vQ7eNdQv1Q3M95Df6jaXbSuiqCcW9uOmchickknUb9nqCGVdU07xx4q0nxlIWF/4utWsWvtSiIUCGeKS1e1KLsTYEgUxkPsK+dN5nQ/Dn4S6f8O4xKuqalr+qFLhZdU1UwCebz7ya7lLLBFFGCZZ2+6gACqAOpIB3FFFFABRRRQAUUUUAFFFFABRRRQAUUUUAFFFFABRRRQAUUUUAFFFFABRRRQAUUUUAFFFFABRRRQAUUUUAFFFFABRRRQAUUUUAFFFFABRRRQAUUUUAFFFFABRRRQAUUUUAFFFFABRRRQAUUUUAFFFFABRRRQAUUUUAFFFFABRRRQAUUUUAFFFFABRRRQAUUUUAFFFFABRRRQAUUUUAFFFFABWb4k1pPDfh3VNWkjaaOwtZbpo1OCwRCxA9zitKq+oWNvqljc2V3Es9rcRtDLE3R0YEMp9iCaAPBvg/wCPtL+G3wk8B6l4jS6m1zxxDF4g1q/tIvP8u7vTDuklAJkMSy3FvaoUVhGgiBCRRlk9l8VeL7LwdHpct/FdNb6hqNvpizW8JkWGWZtkTSY5VGkKR7ucNIucDJHnHwf+Ddlpvgvwpo/jXwnpeq6z4AkfS/D2uajbW11ObOIqtrdQSYLwu0SQhx8rCSJvvKFdo9U+Bvif4halYWfxK8aad4s8D2LNK3hez8OrZxatICvknUnknmE6xld/lxJBG0mCylQEAAat8etG8aaP49s/B17qlxqXhm2e8S70n7Ltv2t5WE9vbyTLJHxJCYJC6AqJQUPKuNX9ob4bX3xy+Bev+HtA1y+8Oa1e28V7pOq6fctbywXcMiXFs29TkL5kaAkcgEkEEAizqn7M/wAINcuIp9S+FPgjUJooIrWOS68O2crJDFGscUYLRnCIiKir0VVAGABXo0USQRJFEixxoAqoowFA4AA7CgD5RkjSx/YR0P4jadaXlt4o0DQIfH0U2oX9xdXa30dt9ouka4uHklIljM9u25j+6lZMAYA+pre+bUNJivLSMM00AmhjmbYCSuVDEBsdRkgHHvXnPx18B3vjj4Yn4f6FpixaV4glj0nUprdo4YtP0xjm6bbuBJaJXhQRgkPMhOFVmHaeKvAfhrx1oP8AYfiTw7pPiDRco39m6rYxXNtlfuny3UrkduOKAOWm8eah4i0/RtNSxvtAvdettQtWv7Oe3kk0y/t/lMSeajpIcrOVcoy/uRuQhsDyr4Tf2rqXxA0zxl8SNMu76LxCkN54P1SfUmuLbRjLaIDYT2aBbe2vB+/VbtFcy+bLF5se+OGTpLf9lD4ez+NLs3PwZ+E1p4ThiCWyx+Gbe4v7yQqh3uTCiW6owkXYBMZAVbfFgoeu0f8AZn+EHh3VrPVNK+FPgjTNTs5luLa9s/DtnDNBIpyro6xhlYEAgg5BFAG14k+KGj+FfFel6Dex3bS3zQxm6t4hJFayTyNHapMAd6+c0cwR9pQGFg7IWQPpeIPGFl4Z1Xw9Y3kV0W1u8awt5oYS8UcohklAlYfcDLEwDHgttXqwzX134c+G/EOv2viK50TTT4qsYJLfT/ETWEEuoWCurA+RNIjFPvtxyp3HIIJB8p8WfArxf8QGW9+IWqeFfidbaWvnaV4LbRm0fQ7i6KuhnvTK9/JKVSQ7Bt2Iw3bGbayAE3iD9oa30Obw/rfiHSfFvhbwxb311Z6tq9tb2d1o9vMklxbeXfSfNcRxB4Q4niRYlLRiWQAuo9E1S+j0bxZousW8Fxf2GthdOnvY9Wla3teGkt5FtSxiIkYtGZUAky0IIdMmPivD/wCyT8JoNFtI9d+E3wzv9XVP9IuNP8G2ltA7Z/gjcSMoxgcu3TPHQdPpP7Pvwt8P65Y61pfw18IabrFgFFpqFpoNrFcW+1dq+XIsYZMLwMEYHFAHN/FL9m7Tvij4zl8Q3OqyWc0kOi25jSHdhNP1Yaj13jmTBj6fLnd83SnfBf8AZx074Na5HqVpqkl+8fh628PqjQ7PkivLy68zO88lrwrjts6nOB7DRQB8r/tLfHDxjJ4H+Kdt4N0BodF8Lyw6Vf8AiaHW2s9QhvHSCZja24ixJHGlxAHkM8bfNJsVygD9f48/akg8A/GLRfBd9a+G/J1LVrPSFhbxVCNd33IAiuE0xY2LW+9kUu0qOBvby8AFr3j39lXQvH2peK3k8U+KdF0fxVLFdazoOkXcEVnd3UUUcSXBLQNKj7IYAypIsb+Uu9Gy26XVf2XdF1TxdPrA8UeJLPTpvElr4tk8PWsloti+pQGErMzG3M7BvIXdGZinJKqpClQDjfhf8dPiLH8OviD4k8baX4WWLRfEmpada3UvidbW1t1ivnh2XE0lnEsdvCAo88CSWQDPlbjtL/DfjjXv2q/Clnq3hPWrDw9N4d13VdK1WTw94jkvNPvSdLnige3uookFwgku7SbLIhRomwC0Y3djqX7MekX1rr1tH4p8RWNrqOvx+KLOGD7Ey6RqSz+e1xbb7Zi2+TJZJzMnJ2qtdZ8KfhRZ/Ciy1+K31rVvEF3rmqvrN/f61JC00ty8MUTECKKNFUiFTtVQASQAFwoAOHtfhH8QYfFGh30njO5fT7T+wvtVv/atyRP9lgvEvMqVw3nPPbsc43+UC2Coz7hRVbUobi5066hs7kWd3JEyQ3JjEgicghX2kjdg4OM84oAxB8RNAPxAPgoXcp8RCx/tHyPsk3k+TuC48/Z5Xmcg+Vv8zaQ23bzWH8XPBfiXxk3hYeHNdl0MWGoXM+oNDeS25uIH029gjT5AQ+25mtZcNwPKLA7lUHE8E/BXVrX4rTfEfxrrmieIfFCaV/Y1lJofh1dKjgtmk8yTezz3E8rFguA0uxADtQF3ZvW6APmix0r4h6x8WF+Hn/C09e8NL4f+H2i3ks+k22n3hu9QlnvoJp5ZL20lkkB+yxnAKZ5JwSaoS/teav4Z+Ettrmt2fgxNbtdQ1nSb6fXfFMegWF5caddS27Cz3pPI8k3lh1j27VBIMvC7/VPGnwJfxR8RLvxnpPj/AMVeC9WvNHt9Eul0JdOeKa3hmuJYyRdWc7K4a6l+ZGXjbxxmsjUP2U/C6w6PF4c1nXvBS6fpd3osj6NPBJLfWdzMs9wk0l1DM+95Q0hmRklLOzFycEAHNeCfjh468efHmCHSNI024+HWo+CNK8S2tvPqXlXyLctOfNEf2UgzEoIvKacRhY1ffl2ReY1r9si68QeCvjFZaPL4Zs/E3h3wNqPibS7/AMLeJYPEC20kMco8u7UQqkM8biFvL/fI25vmIX5vWLD9mfw/pc3h/wCy6zrcNnpnheLwfd2IktzFq+nRIyRpcsYd4Zd7tvgaI5Y9uKw7D9kHQ49F1jTdU8Z+LPEMWo+ELjwOsl/JYxmz0yVQu2FYLWNBIuOJGVic/NuAUKAc5oPxuv8AwT4BTXINS8efE3U9S1PSNIi0/wAZ6EnhxYZruUxK1vIdMtRKpZwWP7wAIuCu75tT4r/tVXvwWv8AR7TxTpPhCxupVs2vdOPjWNdQlWe4ELPp1q9sr3iR5YkyfZyxRgoOM1614u+GWl+M9D8P6Vez3kVvoup2Gq27W7oHaW0lSWJXJUgqWQBgACRnBHWuH+In7L2i/EXXvEN/N4p8S6LZeIvsbazpOkyWiW9/JakeRI7yW7zIV2RgrHKiMEwykM+4A5nxl+1V4h8L6h40ubX4cDWPDPhPxLZ+GL28h12OK9ubi6Wz8k21u8QRvnvoVbzZogAQwZvmCx+LP2vJvhzpusWfjLQNC8O+K7PXrLQYY7jxOE0WRrq1N1HPJqEtvG0MYjiuA26Ddvi2qH3qa9B1X9nvw7rGleLrCa91RYfE/iax8V3jRyxho7q1axaNI8x8RE6dDuB3Md0mGGRtj8Wfs76B4q17WdeOqaxpevX99Yanb6lYSwiXTbq0heGOW3EkTplopZUdZVkVlkYYwaAPME/bes77wPZ6xp9j4Wln/wCEiufDmo6tceK9nhiylithcrIdXS1cFZI3gVN0KZkdozhlw3s/xL+JrfDX4exa5cadHqOs3ctpp1hpdrcnybnUbqRIbeD7QU+SNppEUzMgwpLbc/Kc3WPg7ruueEf7Bufi14yxIZludQW00X7RdRSKF8lwdO8sIoDYKIrfOcs3GOil+Fvhm4+GUXw+m03zvCcWmx6Sli00m5beOMJGBKG8xXUKpEgYOrKGDBgDQB5wP2krvWPCOh6p4d8LR6nqPijxHPoHhqzvNQe0ivFgWZp7q5k8hntkVLS7cJ5cjkRx5CtIVj4jwP8AHTxP4R8MfFHWvE8Oj2N/bePpdK8vxV4uSy0fS4xYWjbReyRswhZ9xiVIN7NMpeOLMhT1rxR+zz4Z13T1i0y51TwnqMWvnxPbato1yDcWuotGYpZY1uFliAljaRZIzGUcyyOV3uXrnbT9k7RdNt4Z7Dxj4stfEcOvzeJY/ErT2lxfLezWQs7ghZrZ4NkkQPyeVhC5EflqFRQDhdA/aY8c/FDxV8GdR8GaRoJ8NeJ7fWl1G1uNeJSSeynEEpimSyk3xIUZ4pFK+cJPmWMAE9lo37UkF98e7H4bXdr4bSbUJ721t4tN8VQ32r2sttG0v+m2EceLdHSOQqwmkI+QMqliF1dD/Zh0XwvpXgy10fxP4ksLzwtqWo6ja6oJbWa5uft1xJPdQTmW3ZGjdpSMqquAq4cHJNDTP2a9L+HusaV4k03V/FviCDwrdalquheEY5tPS3ilu0nE0MRaKJnLG4fabic7Tj5wC+4A9T+IPjjTfhn4E8Q+LdZ87+ydD0+fUrr7Om+QxRRl2CrkZbCnAyOe4rzPUPjX488M6Npw8RfDaysvEWu39npuhWFj4j+020886TSOlzO1tG1v5EcDySFYpRtKiMytlRp3XibUPipY3ng/xT8FvGGn+HNctptP1C41S90Y2ywSRsrh/s2pSTAEErmNSwJBGOorf8M2wXnhqHTdX+IPjTXtQsbiyu9K1y+urRbvSpbXf5TwLFbJCzESyrI0sUhlVyshdQqgA53U/wBp7xDofnaJe/D+B/HUHiS08OSaTZ66HsmN1avcW9zHdPAjNFhNr7oVddsm1XKqHv8Ahz9pS/fxlZ+GPFfhKHw5qK6/N4b1G4tdUN5aW10bBL+zaOUwRmSKeBmG5ljZJE2FW3A1i/Eb9me9uNN8Nw6LrXiDVteuvGdpruueLJ7u1i1JVitZoY51CxxwAQjyVWFIdjAHfG+6TdH8Z/2Y59U+A/ijwtoF5rXiPxf4l12w1O78TX11bw363C3Nsv2wsiwxqLe3hULHEi5WIKFLMSQDTl/amvV8E+FfFMPg1ZtM8WyahDoP/E1CvdyRCaayVgYsR/a7S3mmViSqN5aMcPvHsvgnxhpnxC8G6F4o0SZrjR9asYNRs5WQozQyxh0JU8qdrDIPIPFYHiH4I+CvFWmWOnanognsLHSpdEtbZLmaKOCzlVEkjQI427kjVCw+bYWTO12B7a3t4rWCOCCNIYY1CJHGoVVUDAAA6ADtQBn+KNej8K+G9V1mW1u76LT7WS6a1sYvNuJgiltkaZG5jjAGRyeorNt/GZufEWjW0Vos2iaxYNd2WrRzfelXa3ktEVBXdGwdGBOdkgYIQm/kviB8NfH3jm5vtKh+I8Og+C78lLm307RNusiBlIkhivzceXEGyQHFt5ig/K4cBxu+Gfgj8O/BfiBtf0DwJ4b0bX2VkfVrHSYIrxw33t06oHbdjnJOe+aAPJfjp+05rfgH4kSeEfDenWLz29nZRy3GswyLHJf6jO1vp4Vt8YW2RopnmmyykrHAh82T5dXxp46k+CXh34p6zJqOmW2sSXGnXK32tNOmlR3lzb29lHNMAztb2vmQqWwxChXOSSS3o/jv4OeD/iXeR3fiPRl1C5TT7rSvNW4lhZrW42ebE3luu5S0cbjdnY6K67WUMLN98KPBmra1omtan4W0jWNd0WNI9O1jVLOO7vrUIcqUuZQ0oIOW3bs5JOckmgDl/hN8fNP+KFj4VWXT38O65rGm3F5caHqEw+1Wc0BtvNhxgeYALpG3jHytGSo34HaeI/FEnh/WvDFkLBrqHWb97GS5EqoLXFtPOrsD94MYdmB3cGsjUvgf8OdZ8Nw+HtQ8AeF77QIbp76PSrnRraS1S4bdvmWIoVEh3vlwMnceeTXIaD+yR8JLfSoI9a+E/wANL/U13ebcWHgy0tYX+Y7dsTCUrhcA5c5IJ4zgAHXX3xg8PQwaS2mvceIptWtUvbC30mISvcQyW888LgkqoWRbaRVLMBuK5IByK/w0+NGjfEq+1TSBZal4Z8V6Sx/tHwxr8KQ39sm9lSXCO8csL7crNC8kZzjduDKMW4/ZQ+CqwSGD4MfD2SYKSiSeGbJFZscAsITgZ74P0Nc18Mf2dz4Z0bUtXj8B/Cr4b/EIXkp0fU/Bvh9LmOytDt2xTSNHbyTMwEiSFPJyr4XYfmoA9Q8UfEKPQdU1HRrbS7vUNci0S41qytsCOG+ETBHhSY5VXDvCDuHAmQ8848L8UftXa74M+JNrpl7Z6dqPh2a40u93WFpK14dL1NxbWwCpNJm6iu8bogpNxC7NCu6F1PU6t+zPd+PZ9Q1j4kar4X+I3iJjFDpVvrnhJJdC0a3DIZxb2D3DSGaYKd00lwzA+XtARDG3dWfwH8C2PiS216LQh/adtqJ1WGSS7ndI7n7N9lVxGzlAI4Mxxrt2xBn8sJubIB215qEGnm3E7lWuJRBEqoWLuQTgAA9gST0ABJwATXkHxA8aXwu/Cdjq1l/ZHiLT9W0i/uYrGaW5sXiuruSxKR3DRR+YV8xSwZF2+ZH6g13XxH8J614osdKl8Oa9B4e1zSr9b61ub2wN9aufKlheOaESxM6GOZ8bZEIYIckAq2P4N+HHiS31bWda8beLLXxLrN5HHbWa6Vo66dZabChDgxQyS3DtK0v7wvJI4+SMKibW3gGz4h8c6KviaLwOdZu9K8S6rZu9pLaWjOYcpKVcSvE8CyYhmdElzv8AIkIRlRseW+Cf2kNS123uru60fSdK8NeGltLXxTq3iTxLDa39hPJawzPJ5KW/2d4l89VMhmhy0c4SP5EDz3X7MY+JXjuz8TfGSXwd8RP7Ms2tdN0yDwbFa28TOWLyStcT3UspwcKgdI1OWKM21l7Pw/8As4fCXwnrVprGh/C7wXo2rWj+ZbX+n+H7SCeFsY3JIkYZTgnkGgDA8C/HK+8bfHDWvC3/AAj2r6LoVnZTi1u9Z024tDqE8E8aSywNJEsckBWZNjJI5bDEqg2l+j1DVJfib8I/F0TWc+jXM8Wr6QYTKGkRopJ7YSBkPG8IJF7gOuea2/H3w28L/E7SE0/xT4Z0PxPbwuZraHX9Miv4IZtpUSCOQYyASOCDgkZGaPh74HsfAPgnTfD1ppuh6dBbxES23h7Sl02wMjEtI0VsHcRqzFm2lmPJyxPNAFHTfHiWPwdsfGV7b3d/EmhxarPDYwmaeUeQJGCJwWY84Heq/jKS01HXvhpq0ckkluNYZ4pUlZYysunXaqzJ0bJZAMjILduc4Xjr4V+OfGsl1oifEO30PwFdtsnsdL0PytYNsUIe2S/+0eXGhJwHS2EipgBw/wC8rvte8E+HvFXheTw3rmhabrfh6RI45NK1K0jubV1jZWQNE4KkKyKRkcFQeooA8n+C/wC0tF8UviV4v8Ly21qLawvLiLSdTsXcpMsDiOe1uFcAw3cZKSGM9Y5kIAKuB7nXmvi34JaFJ4RvrXwdoHhvw14gTRn0bTL9dJjVLe1Lb/sh8rY62zNndHGy/eJGGwa8y1n9n/xP8ZfjJonij4oeFvCEnh3T7Q20mhvqMHiK1kAEpHlw3mjRSW7s8qM8sVwu8W8SsjAAqAeleH/H19o9xb6Jf22qatcr4muNDudSvprUNGjW73kExEKRqUKPBEqhA43DcWZWZum+H/jiLx3pFxcizl068tLu4sbuzkYP5M0MzxMu9flbOzcMHoy5AzivKdW/ZN8CXPiZItM+D3wh07w7Hbsz3V34Ugu7ueco4VBCscSRIj+W5fzJDIAybYziStHw/wDBfxx4BtpNN8FeL/CPhbw/dLDLPpdr4KKx2dx5EcU7WCx3qJBG7RmVY5UnKvI5ZpFIUAEfgfxFpM3xTt/ENv4y8Y3f/CcWdrPD4R1QwGx0zNtMyMIjH5ts22yuAyh9rSF9247dnZ+EPijN4ovvDNrPoFxpj6xpd5ezNJcRyLZ3FtNBDLattPztumchl4xE2cZArjda/ZT+HFj4VkXTPhP4D8XeJRtJvPFmmWyveys6+dcXNwtrIzSMN0hwnzsAvyA7li+DvwOufht8R7m/j+H3wo8M6Qmki0XWPB2jGy1S+uS6NIzp5YW3tyF/1PmzncqkycYoA90ooooAKKKKACiiigAooooAKKKKACiiigAooooAKKKKACiiigAooooAKKKKACiiigAooooAKKKKACiiigAooooAKKKKACiiigAooooAKKKKACiiigAooooAKKKKACiiigAooooAKKKKACiiigAooooAKKKKACiiigAooooAKKKKACiiigAooooAKKKKACiiigAooooAKKKKACiiigAooooAKKKKACiiigAooooAKKKKACiiigAooooAKKKKACiiigAooooAKKKKACiiigAooooAKKKKACiiigAooooAKKKKACiiigAooooAKKKKACiiigAooooAKKKKACiiigAooooAKKKKACiiigAooooAKKKKACiiigAooooAKKKKACiiigAooooAKKKKACiiigAooooAKKKKACiiigAooooAKKKKACiiigAooooAKKKKACiiigAooooAKKKKACiiigAooooAKKKKACiiigAooooAKKKKACiiigAooooAKKKKACiiigAooooAKKKKACiiigAooooAKKKKACiiigAooooAKKKKACiiigAooooAKKKKACiiigAooooAKKKKACiiigAooooAKKKKAP/Z)"
      ],
      "metadata": {
        "id": "-lLUTLS8QUHF"
      }
    },
    {
      "cell_type": "code",
      "source": [
        "kmeans = _______________                      # Apply the K-Means algorithm\n",
        "\n",
        "__________________                            # Fit the kmeans function on the pca components\n",
        "\n",
        "# افزودن برچسب های پیش بینی شده به داده های اصلی و داده های کپی شده\n",
        "data_copy['Labels'] = ___________     # Save the predictions on the pca components from K-Means\n",
        "data['Labels'] = _______________             # Save the predictions on the pca components from K-Means"
      ],
      "metadata": {
        "id": "QWbetTNewrbS"
      },
      "execution_count": null,
      "outputs": []
    },
    {
      "cell_type": "markdown",
      "source": [
        "حالا برچسب هایی  را با الگوریتم تولید کرده ایم .حال، اجازه دهید به ویژگی های مختلف بر اساس برچسب ها نگاه کنیم."
      ],
      "metadata": {
        "id": "A6AhILf6w8Ki"
      }
    },
    {
      "cell_type": "markdown",
      "source": [
        "# سوال 5\n",
        " نمایه های خوشه را با استفاده از آمار خلاصه زیر و نمودارهای جعبه برای  \n",
        " هر برچسب ایجاد کنید 6نمره"
      ],
      "metadata": {
        "id": "K3xtJvQ_xq-p"
      }
    },
    {
      "cell_type": "code",
      "source": [
        "# تعداد مشاهدات در هر خوشه\n",
        "data.Labels.value_counts()"
      ],
      "metadata": {
        "id": "POoYZ35ByP8R",
        "colab": {
          "base_uri": "https://localhost:8080/",
          "height": 330
        },
        "outputId": "94e5b6ab-ff82-4987-bd2b-4e62d7ea734f"
      },
      "execution_count": 64,
      "outputs": [
        {
          "output_type": "error",
          "ename": "AttributeError",
          "evalue": "ignored",
          "traceback": [
            "\u001b[0;31m---------------------------------------------------------------------------\u001b[0m",
            "\u001b[0;31mAttributeError\u001b[0m                            Traceback (most recent call last)",
            "\u001b[0;32m<ipython-input-64-9c90f749d201>\u001b[0m in \u001b[0;36m<cell line: 2>\u001b[0;34m()\u001b[0m\n\u001b[1;32m      1\u001b[0m \u001b[0;31m# تعداد مشاهدات در هر خوشه\u001b[0m\u001b[0;34m\u001b[0m\u001b[0;34m\u001b[0m\u001b[0m\n\u001b[0;32m----> 2\u001b[0;31m \u001b[0mdata\u001b[0m\u001b[0;34m.\u001b[0m\u001b[0mLabels\u001b[0m\u001b[0;34m.\u001b[0m\u001b[0mvalue_counts\u001b[0m\u001b[0;34m(\u001b[0m\u001b[0;34m)\u001b[0m\u001b[0;34m\u001b[0m\u001b[0;34m\u001b[0m\u001b[0m\n\u001b[0m",
            "\u001b[0;32m/usr/local/lib/python3.10/dist-packages/pandas/core/generic.py\u001b[0m in \u001b[0;36m__getattr__\u001b[0;34m(self, name)\u001b[0m\n\u001b[1;32m   5900\u001b[0m         ):\n\u001b[1;32m   5901\u001b[0m             \u001b[0;32mreturn\u001b[0m \u001b[0mself\u001b[0m\u001b[0;34m[\u001b[0m\u001b[0mname\u001b[0m\u001b[0;34m]\u001b[0m\u001b[0;34m\u001b[0m\u001b[0;34m\u001b[0m\u001b[0m\n\u001b[0;32m-> 5902\u001b[0;31m         \u001b[0;32mreturn\u001b[0m \u001b[0mobject\u001b[0m\u001b[0;34m.\u001b[0m\u001b[0m__getattribute__\u001b[0m\u001b[0;34m(\u001b[0m\u001b[0mself\u001b[0m\u001b[0;34m,\u001b[0m \u001b[0mname\u001b[0m\u001b[0;34m)\u001b[0m\u001b[0;34m\u001b[0m\u001b[0;34m\u001b[0m\u001b[0m\n\u001b[0m\u001b[1;32m   5903\u001b[0m \u001b[0;34m\u001b[0m\u001b[0m\n\u001b[1;32m   5904\u001b[0m     \u001b[0;32mdef\u001b[0m \u001b[0m__setattr__\u001b[0m\u001b[0;34m(\u001b[0m\u001b[0mself\u001b[0m\u001b[0;34m,\u001b[0m \u001b[0mname\u001b[0m\u001b[0;34m:\u001b[0m \u001b[0mstr\u001b[0m\u001b[0;34m,\u001b[0m \u001b[0mvalue\u001b[0m\u001b[0;34m)\u001b[0m \u001b[0;34m->\u001b[0m \u001b[0;32mNone\u001b[0m\u001b[0;34m:\u001b[0m\u001b[0;34m\u001b[0m\u001b[0;34m\u001b[0m\u001b[0m\n",
            "\u001b[0;31mAttributeError\u001b[0m: 'DataFrame' object has no attribute 'Labels'"
          ]
        }
      ]
    },
    {
      "cell_type": "code",
      "source": [
        "# محاسبه خلاصه آمار داده های اصلی برای هر برچسب\n",
        "mean = data.groupby('Labels').mean()\n",
        "\n",
        "median = data.groupby('Labels').median()\n",
        "\n",
        "df_kmeans = pd.concat([mean, median], axis = 0)\n",
        "\n",
        "df_kmeans.index = ['group_0 Mean', 'group_1 Mean', 'group_2 Mean', 'group_0 Median', 'group_1 Median', 'group_2 Median']\n",
        "\n",
        "df_kmeans.T"
      ],
      "metadata": {
        "id": "RvxtfRzOyYee"
      },
      "execution_count": null,
      "outputs": []
    },
    {
      "cell_type": "code",
      "source": [
        "# Visualizing different features w.r.t K-means labels\n",
        "data_copy.boxplot(by = 'Labels', layout = (1, 5), figsize = (20, 7))\n",
        "\n",
        "plt.show()"
      ],
      "metadata": {
        "id": "BSSMb2uwzBSd"
      },
      "execution_count": null,
      "outputs": []
    },
    {
      "cell_type": "markdown",
      "source": [
        "# مدل مخلوط گاوسی"
      ],
      "metadata": {
        "id": "jtxrW0ItzN4S"
      }
    },
    {
      "cell_type": "markdown",
      "source": [
        "حال بیایید با استفاده از مدل مخلوط گاوسی خوشه هایی ایجاد کنیم"
      ],
      "metadata": {
        "id": "Lcur2H1KzWJB"
      }
    },
    {
      "cell_type": "markdown",
      "source": [
        "# سوال 6\n",
        "\n",
        "![Screenshot 2023-08-07 210612.jpg](data:image/jpeg;base64,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)"
      ],
      "metadata": {
        "id": "voi9RyoRzaU7"
      }
    },
    {
      "cell_type": "code",
      "source": [
        "gmm = ______________     # Apply the Gaussian Mixture algorithm on the pca components with n_components=3 and random_state=1\n",
        "\n",
        "gmm.fit(____________)    # مدل را روی اجزای pca قرار دهید\n",
        "\n",
        "data_copy['GmmLabels'] = gmm.predict(data_pca)\n",
        "\n",
        "data['GmmLabels'] = gmm.predict(data_pca)"
      ],
      "metadata": {
        "id": "HIrXvcN3z8IR"
      },
      "execution_count": null,
      "outputs": []
    },
    {
      "cell_type": "code",
      "source": [
        "#تعداد مشاهدات در هر خوشه\n",
        "data.GmmLabels.value_counts()"
      ],
      "metadata": {
        "id": "mwThV28u0JRv"
      },
      "execution_count": null,
      "outputs": []
    },
    {
      "cell_type": "code",
      "source": [
        "\n",
        "# محاسبه آمار خلاصه داده های اصلی برای هر برچسب\n",
        "original_features = [\"Avg_Credit_Limit\", \"Total_Credit_Cards\", \"Total_visits_bank\", \"Total_visits_online\", \"Total_calls_made\"]\n",
        "\n",
        "\n",
        "mean = data.groupby('GmmLabels').mean()\n",
        "\n",
        "median = data.groupby('GmmLabels').median()\n",
        "\n",
        "df_gmm = pd.concat([mean, median], axis = 0)\n",
        "\n",
        "df_gmm.index = ['group_0 Mean', 'group_1 Mean', 'group_2 Mean', 'group_0 Median', 'group_1 Median', 'group_2 Median']\n",
        "\n",
        "df_gmm[original_features].T"
      ],
      "metadata": {
        "id": "XM7rj_NR0YgG"
      },
      "execution_count": null,
      "outputs": []
    },
    {
      "cell_type": "code",
      "source": [
        "\n",
        "# Plotting boxplots with the new GMM based labels\n",
        "features_with_lables = [\"Avg_Credit_Limit\", \"Total_Credit_Cards\", \"Total_visits_bank\", \"Total_visits_online\", \"Total_calls_made\", \"GmmLabels\"]\n",
        "\n",
        "data_copy[features_with_lables].boxplot(by = 'GmmLabels', layout = (1, 5),figsize = (20, 7))\n",
        "\n",
        "plt.show()"
      ],
      "metadata": {
        "id": "djL7wfqf0j7P"
      },
      "execution_count": null,
      "outputs": []
    },
    {
      "cell_type": "markdown",
      "source": [
        "# kmedoids"
      ],
      "metadata": {
        "id": "W3aWQzuz05lP"
      }
    },
    {
      "cell_type": "markdown",
      "source": [
        "# سوال 7\n",
        "![Screenshot 2023-08-07 215104.jpg](data:image/jpeg;base64,/9j/4AAQSkZJRgABAQEAYABgAAD/2wBDAAMCAgMCAgMDAwMEAwMEBQgFBQQEBQoHBwYIDAoMDAsKCwsNDhIQDQ4RDgsLEBYQERMUFRUVDA8XGBYUGBIUFRT/2wBDAQMEBAUEBQkFBQkUDQsNFBQUFBQUFBQUFBQUFBQUFBQUFBQUFBQUFBQUFBQUFBQUFBQUFBQUFBQUFBQUFBQUFBT/wAARCACKAn0DASIAAhEBAxEB/8QAHwAAAQUBAQEBAQEAAAAAAAAAAAECAwQFBgcICQoL/8QAtRAAAgEDAwIEAwUFBAQAAAF9AQIDAAQRBRIhMUEGE1FhByJxFDKBkaEII0KxwRVS0fAkM2JyggkKFhcYGRolJicoKSo0NTY3ODk6Q0RFRkdISUpTVFVWV1hZWmNkZWZnaGlqc3R1dnd4eXqDhIWGh4iJipKTlJWWl5iZmqKjpKWmp6ipqrKztLW2t7i5usLDxMXGx8jJytLT1NXW19jZ2uHi4+Tl5ufo6erx8vP09fb3+Pn6/8QAHwEAAwEBAQEBAQEBAQAAAAAAAAECAwQFBgcICQoL/8QAtREAAgECBAQDBAcFBAQAAQJ3AAECAxEEBSExBhJBUQdhcRMiMoEIFEKRobHBCSMzUvAVYnLRChYkNOEl8RcYGRomJygpKjU2Nzg5OkNERUZHSElKU1RVVldYWVpjZGVmZ2hpanN0dXZ3eHl6goOEhYaHiImKkpOUlZaXmJmaoqOkpaanqKmqsrO0tba3uLm6wsPExcbHyMnK0tPU1dbX2Nna4uPk5ebn6Onq8vP09fb3+Pn6/9oADAMBAAIRAxEAPwD9U6KKKACiiigAooooAKKKKACiiigAooooAKKKKACiiigAooooAKKKKACiiigAooooAKKKKACiiigAooooAKKKKACiiigAooooAKKKKACiiigAooooAKKKKACiiigAooooAKKKKACiiigAooooAKKKKACiiigAooooAKKKKACiiigAooooAKKKKACiiigAooooAKKKKACiiigAooooAKKKKACiiigAooooAKKKKACiiigAooooAKKKKACiiigAooooAKKKKACiiigAooooAKKKKACiiigAooooAKKKKACiiigAooooAKKKKACiiigAooooAKKKKACiiigAooooAKKKKACiiigAooooAKKKKACiiigAooooAKKKKACiiigAooooAKKKKACiiigAooooAKKKKACiiigAooooAKKKKACiiigAooooAKK53xF46sPDviLw7oMkVxd6trssqWttaqpZYolDTTybmAWJNyAnk7pEUAlgK6KgAoorzL4qftIfD/4N+G7nXvEeup/ZVlqsejahNpsbXzafdSJvVJ44QzodpTjbn94nGGBoA9NorhV+L2lLZ+Fr260zWtLsfEd8+nWs+p6e9o0M2XEInil2yw+dsPl70HLIrbGdVPdUAFFZ+veINL8K6Rc6rrWpWej6Xarunvr+dIIIgSACzuQqjJA5Peub0b4saN4m8aXvhvRLfUdYk06WSDUdTtrNxp1nMgGYWuX2xyyBjsaOEyMjAiQJigDtKKK8/wDgx8XYfjB4blvzoeoeHNSs3jgvdN1AKxjlaGOU+XIhKyx/vNocY+ZHBVWUqAD0CiisibxRYweLLPw4xk/tK6sZ9QjXb8nlRSRRtk+u6ZOBnvnHGQDXooooAKKKxY/GWjzeMrnwol5nX7ewi1SW08p/ltpJJI0k342nLxSDAORtyRggkA2qKKKACiiq2p6nZ6Lpt3qOo3cFhp9pE9xcXV1IscUMaKWd3diAqgAkknAAJoAs0VHb3EV1BHPBIk0Mih0kjYMrKRkEEdQR3qsut6c+syaQt/atq0dut29gJlM6wszKspjzuCFkdQ2MEqw7GgC7RRRQAUVlTeK9Et/Elt4el1jT4tfubdruDSnukF1LCp2tKsRO5kBIBYDAJrVoAKKKKACiisTX/GmjeF9U8P6bqd59mvdfvW0/TY/Kd/PnWCWcplVIX93BK2WIHy4zkgEA26KKo6xrmm+H7VLnVNQtdNtnmitkmvJliRpZXWOKMFiAWd2VVXqWYAZJoAvUUUUAFFFc144+Jng/4ZWltdeMPFeh+FLW6cxQTa5qMNmkrgZKq0rKGOOcCgDpaKw/FHjDT/CnhG+8SXHnXmmWdsbt2sY/OZ4wM7lA6jHOc4AySQBmtygAooooAKKKKACisa98VWmn+LNJ8PyxXP2zUrW6uoJlhJgAgaEOjSdFc+eCqn7wSQj7prZoAKKyrzxNY2UmkqftV0uqSiK2msbOa6iyULhpJIkZYkIU/vJCq5IGcsAcLwL8S7PxZ4N8O61qduPC17rMjWselaldQmX7Uvmb4EZGKyMPJlYBeSqEkLggAHZUUUUAFFFFABRWR4q8UWXg7RJdV1EyC0jkhicxLuIMkqxqcem5xk9hk1r0AFFUr7XNO0y+06yvL+1tLzUZWgsreeZUkupFjaRkiUnLsI0dyFyQqMegNM0fxBpfiBbttL1Kz1JbO5ksrlrOdJRBcRnEkT7SdrqeCp5B6igDQorH8OeMtA8Yf2j/AGDrmm63/Zt29he/2bdx3H2W5TG+CXYTskXIyjYIyMil8P8Ai/QfFj6mmh63p2stpd5Jp1+un3cc5tLqPHmQS7Cdki5GUbDDPIoA16KKxPCfjLR/HFle3eiXn223s9QutLnfynj2XNtM8E8eHAJ2yRuu4cHGQSCDQBt0Vn3HiHS7PWrPRp9Ss4dXvYpJ7XT5J0W4njjKiR0jJ3Mql03EDA3rnqKqTeMtHt/Gll4TkvNviC80+fVILPynO+2hkhilk342ja9xCNpOTvyAQCQAbdFFFABRUV1dQ2NrNc3M0dvbwo0ks0rBURQMlmJ4AAGSTUOk6tY69pVnqemXlvqOm3sKXNreWkqywzxOoZJEdSQyspBDA4IIIoAt0Vg+LvHWg+BfBWp+Ltb1KOz8OabZtf3V+qtKiwKu4uAgLPx0Cgk8YBzVjwp4s0Xx14fstd8Paraa1o14pe3vrGZZYpAGKthgcZDBlI6ggg4INAGtRWfJ4h0uHXYNEk1Kzj1m4t3u4dOadBcSQoyq8qx53FFZ0BYDALKD1FaFABRWfJ4h0uHXYNEk1Kzj1m4t3u4dOadBcSQoyq8qx53FFZ0BYDALKD1FaFABRWH448Vw+BfB+s+Irm2lvLXSrSS9nihmghYxxqWc+ZPJHEoCgks7qoAOTXmPw5+NninxZ8L/ABb451HwhLBBZWsl7pGlwxT25v0jtzJtSW7SGVt7DaGktoFBPy+agErAHtVFc34K8ead47h1JrCO4hk06eG2uobhVDRySWlvdquVZlbEd1FkqSM5AJxmukoAKKKKACiiigAooooA8M1a6vrT9rXUZIrc3t2nw6Mmi2kkios0q37falVj0yfsAY9BlM103wZ8SeK28K6ifiJt0rUrWUzwxanJZpfJYeWn767FrLJAD5q3IDRkKY0QlVbeB1PiPwJYeJPEnhvXnnubLVdBmle2uLRlBkilTZNbyblbdE+I2IGDuijIIKiovHPwp8E/FBLNPGXg/QPFq2Rc2q65pkF6IC+N5TzVbbu2rnHXaPSgD551D4v/ABo8deBb24+GGgSeJLSPVL6Sz8YRtp8Eeq2iSyC0jsoZpwHXzfLjlmlESvbxyvAzySxuvcah4R1r9oDw78T/AA74y8I694W8OeIdGt7G107xHdafOI7rbcCWWD7HcT7VU/ZW+cg71yB1r3SKJIIkiiRY40AVUUYCgcAAdhT6APnf9oC01LSf2PIrLUvMj8UQ22iQQqJFeX+1FurUQBWyQz/aAmCCckZFeo+NfGUNx4b1SHQtG1Tx7Ity+kahY+EdUtILyycxFn3Sy3Vv5LqrJ92QSqZEYD+IafivwJY+MtU8O3Woz3TQaJff2lDYRsognuFQrE8o27m8ssXUBgA4ViCVXHSUAfNMfiv4q3UemwX/AMNPiZ5Y8O3WkahPa6p4cjllu3aAQ3qBdRULKFWckrtAaQYUgDaz4K2PjXwb4u0pbb4ZeMvDmma4zz+KYdV1TSLjTIb6RZJZb+1WLUJJYmknOHijjEbB94RGVt/u+k/D/QdF8Ual4jt7JpNe1AeXNqF3cS3MyxZB8iJpGbyYdyhvJj2x7stt3Ek9FQB5d4r+OnhD4e/Ea70rxn410fwbaJptvPZw69dQ2EV68kkokeKaYgSlBGilEOU35cfvIzXnvw91zxh4V0nUtT8K+AdZ8X2PiQ3V9o9w09rp9va7769a3F0l1NHPHEYZLVt0cMjhS3yFgFP0nRQB8b2cnxz8Ra5bWfxF+HPj3WNFtI7hhd+D/Fem6NI905gZCBb6jbtLCjG6jQSsD5aQM6NI7lPoPSfDfiTUPG3grxLrdnZWd7p+h6np1/FbXpulV557F02yeVDvJFoSx8tQDkDjBPotFAHz7dQ3eu/tX+M0vda8SvpHh3wnouq2eh6Vqk8Fu909zqYaQwxuolYrEq+W+Y3+XerFUK/L2k/HHWdT0v4kXHh7xVdrbXnwd8QeIX8nx5da7e2mpQLbmKSdWiji0y8jFzJvt7U7FYjAUJHn9I6KAPjHx/qPib4Sr4os/DfijxZqEupfDtdcuri+1GfVJ7e5ju4457y2jkLCGTybiV/LhVYsxR7YhtArjta8TaVo/i74m6t8J/G+ueI9Hh8IaDHceIYdUn12WytW1iZdRltbqYytI0Vq80vDP5bggAFdg+/6KAPhfxl4uMOh/EaL4T/EjXtY8BovhmOPxFaeJJtZFhqs2sRxXENrfzyTFibYwtJCXdE3puQCYhp/ifpOp+AdM/aEvdJ8b+OEg+HthZ674es5/FF7Otvcm0E0glkkkaS5idoFBhuHliAd9qLuJr7hooAK+D/Hl7B4quvjr4NHimf4k6jqugeIry0vvCvjm+mGlLFseHTr3S4pRBZsrssCOhY3CwSiRV8yRG+o9R+Eviq+1C6uIfjX460+GaVpEtLey0ExQKSSEQvpjOVUcDczNgcknmvSokMcSIztKygAyNjLe5wAM/QUAfCPxH+JHhTSfhT4F0fwr4wurrTbzw5eX9lq118Ub/S7aa7j8qNoYLyEXFzeXiO5C2W7y1GQU3bALngy+W++K/hzxtqOt3o+IPib4R6TqejW0+v3NvBq+rLFcNLFHaCdYpQA0TmAIUBdpNoZmY/ctFAHwr+zx4u8VeJLhJNN8eWuo6tN4WnfXPD+j/EQ694kk1DMBW4j03U7aK302aJzMjxHbCDMEZPkQj6C+Cf/AAnH/CSXv/CT/wDCzvsX2Q+X/wAJt/wi32XzN6Y2f2T++8zGfv8AyY3Z+bbXtFFAHy38QPH3wv8ACX7Zfw9hHiPwjo2vyWWsxazH9utYLpruZNNS1W5G4MZXjQLGH+ZlQBcgV9PTXIjbyUaNrto2eKF32lwuAT0JwCygkA43D1qaub8b/DXwj8TLG3svGHhXRPFdnbyedDb65p0N5HE+CN6rKrANgkZHODQB5p8Gfiv4h+K37ON/4t1qO0stWeDUFjuNJKLBIIjIqywtFc3CEZXAdJnDbdw252r538A5dW8PeI/gNcy+KfEuuyeOfAlzqOtprmsz3sU11HFp0sc0cUjFIWHnyr+6CBg2WDEZr6r0/T7XSbC2sbG2hsrK1iWGC2t4xHHFGoAVFUcKoAAAHAAqp4k0m61zRLqxstZvvD11MoCanpqQPcQHIOUE8UsZJAx8yMME98EAHCftL69rfhn4F+LdT8P3F7Z6jb2yFrzTYPOuba3MqLcTxJtbLxwmV1+U8qDg9K8VuLzwTd+O/gqfAPjS+8baGPH8+66uNen1yCGb+wNQ3Rw3kzyM4xtZkErBGY8Lkg+9+E/hv4h8Oa3Ffah8VPF3im1RWDaZq1ro6W8hIIBJtrCGTIPIw4GRzkcV3tAHxJ8Ofjg2pWvwC8LSfESX/hLbBtXtPGCzXzzS2M9vpt6CNSDH5WWaIuqXGC3ksy5CMRwesXmkeK/gTren6l4mvPE6eEfEnhO71bx3ofxD1PU9J1CNtRiS4uBKZwtpLGiyTS28ZKW/mQSK+VRk/ReigD4G+K3jjWbf4ha/p+kfETQPDem2umaTN8P9b8VfFG/0m1uIGt1kF2sQimj1lWn3LIZ5XLKqKQofe/pSWOo+ItW/aP1TU/ibqfg250XUjpek6peazNHpOgiXRLFnn8gypEw8yYuPNyEb5k2Mzs31fRQB8g/Dzxhr3i34bsvgmP4gSnT9ZuLS61LwD4s0zxPZX7eRA4lg1DxCS0kA37NsIGyVJlYHG47PjbxkPDHgfT7XxX490/4ceMdQtdQt4tW+Mml6VPeT2TGMSwQy6fcQWg+byG2ZkYhVLxNgGvqWigDxb4S6LN4m/ZB8PaFpukXnheS58ILpdlp2qTvJPaj7KYYhJI0cbE4CnJjQ8/dXoNDw94r8aeMPiNoFxdeAfF3grR7WyvI74avfaTJZztJ5JjO21vJ5GkVoyFO1QFkkyeQK9ZrOj8OaTD4gm12PS7JNcnt0s5dSW3QXMkCMzJE0uNxQMzEKTgFicc0AfHXx78daXYfFH4yWOu/EzxF4W1PTdB0+48IaVput3Fks2ovBOQLeGNlF3M0iwj7MfMVt3MZzmum8NeMLXU/jVqtj8TvG+teFfHdpqGix+G/DNjq09pHe2kltbPI6WMbGO9SS7a+imlaOTykib5ovK3r9FaJ4A0/QfHPifxVbzXT6j4gis4bqKRlMSC2WRY/LAUEEiRs5J6DGK6agD4g+Avxku/GH7SnhqPTNZuWsdXs9ZOr6VeeNLjWL2J0kiNuL/TTCttpNwNkmIYG7yrhgma+r7zxleTaz4u0vR4bXUNU0XTYbiHTWlEc008qzNGGJOFjYxhQx/iEnPy12Fcd43+DPw/8AiZeW134w8DeG/Fd3bRmKCfXNIt7x4kJyVVpUYqM84FAHiHwt8Wz+JfCtl498G6V408bPBrU0N/aXmvaZfvds1oRJc2ci37WQh814gYYZ0jQpKqxqyEHB+EPwo+O2m+HfFfh+fVF8AS+IhFrj6mzJrFrp+oSmF76K2j+0rKjXMn2uWVQVigebFu8hJlr63srK302zgtLSCK1tLeNYoYIUCJGijCqqjgAAAADpip6APk2+vPjl8MfDvgTwj4N+H2va5a+GtUS21LUrbUNHitdU0lJ8Axm8vJLgv9mBXy2ET+aysZysZWa/4z1DWPAf7Pl/45n0l/D3ifwxreo6na6Zq+qW6C1W71J3VbgQX0UMx+z3C7bdroI5ZOC4QD6jrk9a+EvgbxJ4tsfFOreDPD2qeJ7Exm01q90qCa9t/LYtH5czIXTaxJGCME5FAHlOg+O/jd4q+I3gu+uPh9eeFfBEyiPU7O6utOkuATbyGWW4Czs0aiY2whWEuxCXPnIpeLZ6dqHja9kvPG9jo0Nrf6noOnxS2+nySiOWW5eKWRAxZgqxPiNVclRuWXJ+XI7SuN8bfBf4ffEy/gvvGHgTwz4rvbeLyYbnW9Ht7ySOPJOxWlRiFyScDjJNAHnfwB8d6d4i+FviDxJ4cvNc1O6lkuLgHxZr9rfR3dzHEokmhmtrie3it2k4K27rDGwkVY49pWtD4O/HSLxh+z6PHnjHV9I8Ovbm8TUdQSSGG0tljndIZuLi4jCyReTKuJpFZZUKsyspPc+LvhH4F+IGn6dY+KPBfh7xJZaaCtlbavpUF1HaggKREsiEJwqj5ccAelM1r4OeAfEviDS9d1fwP4b1XXNKSKPT9TvdJt5rmzWJy8SwyshaMIxLKFI2kkjBoA5NbTxF8WP2XYo7vy5PFWteG1kV5bdrNZLpoQ0btEx3Q7n2sUPKZweRWj8ZviZB4S8E2F5pHiCxttY1PUbO10iEKty+qSm4jDWsKA5beu5Wdc+WheQlQhYel1yek/CXwPoPi+88V6Z4M8P6d4pvN5udctNLgivZ95BffOqB23EAnJ5xzQB4b+2tovizxFq3wh03wNqkei+LLnWtUj0+9k42P/YOpZCt/wAs3ZdyrJhvLZlfa+3aev8AhB4suL74f+E7X4XeCtFsPDWnu+l6vpOt61NY3+h3EUmy4gaJLWfzplO9izyp5hKvuYSb69vooA/PfwV4q1v4CWuseK/DGmy6lcfEHxF4m8LxW6oWiTXo9cvjpUsmAdqOs1wkjkdIYewpNS0nU/gXp3xE8OeGL37P4fs/iBoOn+IdXvNZm0UfYj4cs2kuLjUII5JLUTXYg8yZFz++YbkDF1/QmigD4a0fxu0OkeDLbxt8U9Ng+FV94k1Zf7c8K/EC7voLdVso5LTT7zXv3E+fNa8cbnUsEt4yzfdbI+G/ibTNL8N+ErTxL401rw18KdR8W+Npb/xDcapPosl1drqTNp8d3eo0MsHmRtdy43R75IkU/wBxvvyigD4Z0/4hfEazsNBfwzrGt6/IfC3xAuvCf22SS4k1qG2nsRo08qNzckq4EUrgtIkgfJ80lsrwzrHgzV/idb3PgL4z3z283wj1r7R4z1vXJdWt9HvHudLBuGnuZCsUy5R5LYSII8Rny4vMy/33RQB4V+yJ4utPE/gfXLe08y7/ALM1T7NLq9v4uvPFGnajIbaBzLZX90S7xjcEaMALHIkq4J3MaHxg+NEFr8DfC3i67W/uvDOvNFNev4X1m10278iWJ5IoIJ57q3JkZvLjJgkErENsRS2F+hK4fR/gX8NvD3i7/hKtK+H3hXTPFHmyz/23Z6LbRXvmSBhK/nKgfc4dwxzkhmznJoA4nxF4k8X+HfEXhdNE+HPxE8Q2miRfZZ76PVtIEOp20luu7zI7jUI2eZZUhPmPGrgpKFbZK+/grrw/8afiZp+h+HLVfF3wyS2GoW+o634jbTNRgv7CS4VoYXWx1EXC3BhjSPz42jZBJMUkDlXH1XWdH4c0mHxBNrsel2Sa5PbpZy6ktuguZIEZmSJpcbigZmIUnALE45oA8T8J+NviN8OfD/hjwmPg34p8Q22h2w0q71iz1HRkju44I/LiubdZdRVyJNisVlVGAc55XaZ5Pil478P/AAH8VeKte0Sx8K+JNMKSppesXNiYrGHZB5hdo7xYXVSZzGHuIS6rGGaIsSPdq5PxL8JfA3jTxFp+v+IPBnh7Xde08ILPVNS0qC4urbY5dPLldCybXJYbSMEkjmgD50tvil+0Hfz+GfGOjfDbxbqNtfWlu2qeD9U/4R6104I6RF5bS4F/9rilUiRgtwJFYPtKREBl9x+K/wAQNc8M+B9Pk8PaPdSeM9aljttL0eS0hvJFm8tppVkX7XBD+7himJJukQsgVXZmRW9GrN1jw/aa5Npk1yredpt2L22kQ4aOQI8ZIPoUkkU+ocjvQB856L4g+IS61pfiK4+Anizw/rl/YzQ+KY/D1/4eWLULlo4Vjn8xtQEkrxeTtjaTBRJGHNdj4o+I1/4B/Zds9X1PxFBpPjWPR4bGKbUPJvZZ9bWLYbQxwsVnna4R42jiJJYNtPGR6n4u8H6X450dtK1mO4n06R1eW3gu5rdZgD/q5PKdTJG3Ro2yjglWVgSKxdN+Cnw80XxVbeKNP8BeGLHxLbRrFBrNto9vHeRIIfJCrMqB1Ai/dgA/c+XpxQB5Z+0l8RNSj1DwN4Lh8Jw+OfDPjy2v7PVdD0+6thqF3B5ClvszyX1tsVVkZjMokAwoJhLIzX/CuofEv4c+Hk0nXPBWufETSLxJHsl07VLGXU9MhLtts7+W8uYFuGWIxgTxvIzESLIWKLPP6Z4X+EvgfwPrmoa34c8GeH9A1nUNwvNR0vS4La4udzb28yREDPlvmOScnnrXWUAeS/s7+Bte8G+GzJ4gtRY399p+k/abd5UklS6h063gn3lGZDhowuVJB2HGRtJ9aoooAKKKKACiiigAooooAKKKKACiiigAooooAKKKKACiiigAoori/jB8QH+GfgO81e1tY9Q1eWa307SrCWQot1fXMyQW0TMASFMsibmAJVQzY4oA7Siq+npdR2Fsl9NDcXqxKJ5reIxRvJgbmVCzFVJyQpZiBxk9asUAFFZN94g+weItL0t7Gd49QSYrfCaBYY3QBhEVaQSs7LvYeWjACNixXjPjX7Qnx28b/CX4ifD3w/oHhLSNX0vxnPLo8Gtaxqctnb2Op7DJBHL5cMrMsipJtUKNzLjcoGaAPe6K4O88eX+g/F7SfCuqx2p0rX9Nmn0q8hRkcXdsVM9vJljuLxyCRMAYEMwbPyk9ut1C91JbLNG1xGiyPCGG9VYsFYjqASjAHvtPoaAJaKrvqFrHfw2L3MK3s0TzRWzSASPGhQO6r1KqZIwSOAXXPUVYoAKKKgu7230+JZbqeK2jaRIg8zhQXdgiLk92ZlUDuSAOTQBPRRXP+IvH/h3wjrXh/SdZ1e203UNfuWs9LhuG2/aplQuY1PTdtBwCeegyeKAOgoorH1jxfomg6tpWk3+s6bYaxq7SJpmn3l2kM188a7nWFCd0hUEFtoOAcmgDYorl/hZ4vl+IHwy8JeJ54FtZ9a0m01CW3TOInlhV2QZOflLEc+ldCt7byXktos8TXcUaSyQBwXRHLBGK9QGKOAe+xvQ0AT0Vg6f440XVPGes+FbW+in1zR7W1vL21RwWhjuDKItwByCfIc4PYqe4rXs7631K0iurSeK6tplDxzQuHR1PQhhwR9KAJ6KKKACiuE1z4n2UPjbSvDmjanompX0Opx2niCwF8rXumwzWk8tuxhUkq0kiQ437QUZyMnFbXh34g+HPFmv+JND0jV7a+1jw5cx2mrWMbES2kkkSyxh1IzhkYEMMqSGAOVYAA6GiuX+Kfiy48A/DLxb4ntLVb250XSbvUY7Z84laGFpApxzztxx+Y61uLrFg2oR2C3tub+SA3KWolXzWhBCmQLnJXLAbumSKALlFFZMniDy/FUGiNYzjzrKS8S+MsAiOyREaMJ5nnFh5iksIygBALhiFIBrUUUUAFFQ3F7b2ZhFxPHAZpBFF5jhd7kEhVz1JweB6VV/tK4/t7+z/AOyrz7J9m8/+1d8P2bfv2+Tt8zzd+Pmz5ezH8WeKANCisHUvG+jaT4u0bwxc30Uet6vDPPZ2e9fMkjhCmRtuc7RvXnGMkDuK3qACiuR+Ikvjq2s9NuPAtv4f1C5iugb/AE/X5p7Zbi22tkQzxK/lSBtpBaJ1IyPlzuFPwP8AFBfG0XiYwaVdRXejypG2lsYxdhjbo7Qvl/LEolMsfDmM7Awcqd1AHdUVW0y7lv8ATbS5nsp9NmmiSR7O6MbSwMVBMbmNmQspODtZlyDgkc1O+4IxQBmxwGOAT9aAHUVznw51+/8AFPgHw9q2qw21tq15Ywy3sNm5eCO4KDzVjY8lA+4AnnAGea5v4WX2r3XjD4n2uqa/qGrxabr6Wlla3kdqkdpA9lbXSrEYYY3Zc3RTMrSN+6HzZySAej0Vn32pXFnqWmWsWk3l7Bdu6TXsDwiKyCoWDSh5FchiAg8tXO5hkKuWGP8ADDxbP46+H+ha7d28dpe3lsrXVvCSUinGVlVSecB1Yc+lAHUUVna1rEWlwwxfarKDUL12t9PhvZxEtzceW8ixKeSTtjdiFBIVGODg1yumePNWm8D+FvFE+lW8+m3elLqOsNZNcT3Nvut1kUWtrDBK1yS5K7QysBgjefloA7uisTwb4oXxl4eg1ZNPu9LEsk0f2S+MRnjMcrxneIndVJKE7S25c7XVHDItGx8Xz3HxQ1rwtJbxx21no1hqcFxk75XmnvI5UI6YQW8J/wC2poA6miuV8N+LJ7hPFB102OnDRdTltWljn/dC38uOaJ3ZsbWMUqFh0ByBkDJ6qgAorgPiX8XNI8D6Xr0dtqmlXXiXSdPGrz6I92n2pLISBXuGhDbxGBuw2MEjGa6Hx3440X4a+DdY8U+Ir6LTdF0q2a6urmZwoVVHQZIBYnCqOpJAHJoA3qK5n4keItf8K+D7zU/DHhWbxprMLxCLRYL2KzaZWlVZGEsp2jYhd8Hltm0cmtrR76fVNJs7u50650i4nhWSSwvGiaa3YjJjcxO8ZZeh2Oy5HBI5oAuUVnx6lcya7PYNpN5Hax26TLqjPD9nldmYGJQJDLvUKGJaMLh1wxO4DQoAKK4bxp8TbLQ9VttF0vU9Fu/EK3mn/btImvlF3BZXF1Hb+eIQd33pAFLYUnuSNp2bHx/4d1LxpqnhG21e2l8TaXbQ3l3pe7E0UMuRHJg9VJUjIzg4BxkUAdBRWD4v8caL4FttNm1q+ishqWpWuk2aSOA9xdXEgjjjQE/M2SWIGSFRm6Kap+JPFk+l+LfC2kWZsZhqF60N+ks3+kQRG0upYnSMf3ntiMnjCvgHkqAdVRVTVrybTdKvLu3sLjVLiCF5Y7G0aNZrllUkRoZHRAzEbQXdVyRlgMmjSNTi1rSbLULfBgu4EuI9siSDa6hh8yMytweqsQexI5oAt0VyPhTxsfFHiXVILabTr7Qv7O0/VNK1HTrjz1u7e5E2JCw+UgmElSuVKlTuOSB1csyQRPLK6xxoCzOxwFA5JJ7CgB9Fcl4K8bN4s17xlYmOFYNF1KC1tJoX3C5t5LC1uRLnpy88qjHGIwa62gAooooAKKKKACiiigAooooAKKKKACiiigAooooAKKKKACvGf2qYWsvA3h3xM6q+n+FPFGl67qO7HyWcVwFuJckgARRyNMSTwsTV7NUV1aw31rNbXMMdxbzI0csMqhkdSMFWB4IIOCDQB4/deCtQ+HfxQ8RfE/U9XvNW0ieD7ONG8PaHcPdiNvIVWuFimc3nk+U/lhIBIguJsbtxrlbjT/F/x38e6vrPhK41z4XeF5NJTQb7WtX0me21TV085pN1jbzSRtZtAHmVLmeFiWuH2xkIrH6H0/T7XSbC2sbG2hsrK1iWGC2t4xHHFGoAVFUcKoAAAHAAqxQB8/fC/wDZ28Z+Bbjwla6p408L6v4f8N6rdataWdn4SntLmKSeG4jaOGZ9QlWKP/SpflERwp2jaMY9Y+IngCz+Imk6XZ3cnkNp2s6drMEwTcVktLqOcADI++I2jJ7Bya6migDxf4nWreJf2jfgzp1moebQH1XxJfPtyIrf7FJYRqT2Mkt6Co/iEEn9010HxA8L+M4fEE3ifwh4v0/RU/s5ba/0/WPDs2sxSLC8kkckEcFzbyrL+9lVhmTePLCqpX5u7t9F06z1W81OCwtYdSvUjiuryOFVmnSPd5au4GWC732gnje2Opq7QB8+6n8M/i/46Wx1+3+JnhHRtQk0m5s7W/h+Hl9bXtvDdLGzfJPqu6N1aKJwjqNroNynGKyfiH8HfHmoLqWv+Pfid8Obvw5DaTJd2fiHwXcjSIYGa2dzKj6wEKhrSJv3hIBL/wB419MUUAfLP7NF1dfC34Ww+JIfHlx8SfhRqDbNDsfDvg3Uml0iJSYgsCPc3N3JaBoyqpsfZvQqVhXhurWXin4sa14m1jT7S68DeDPFUtnoSWvijwjf6je38sDT41FLaO4jOmJgoFluo+fIiZ1QBA/1RRQByXjz4laf8O1tZNS0rxFfW9wH2S6DoV3q211x8jpaxyOmQSQzKE+UjcDgH5sl/Zi8V/HKz1nxFqes3nw80vVbm5vtF8F6paG8bT2mkikaa82XQ2ymaI3aR2zwtDLKN8koTYPsCigDiPiZrGoeFPBtneJBq2rx215ZjUX0a2ee9NuJU82RIYRvf1dI1LFC+1ScCvMvCPibxB47+PlxqGi6Jdz+BpoYH1C/8U+C7rSbi2MUUnk29tPdzxSyFZ8TYFkY1E8n78NtSvoSigDxDXvGenfCXwWvw8g8G+M/G2oQWUWnWdlpuh3D2+pLKqpzfhfstugLMGM8yMixscEbC8fwJ8D+K9B8QW3/AAl2v2Or6p4e8P22hObPw1e2bOGWKRS+o3E8iX5Ty2BeJUw0khdVZto9zooA8NuPgEfhXqGo+JvhfrEfhe6uftt3rMOuWWpeJY71pZRcPJFAL2ORJfMErAREhjM/yFiCOO8M/s4/ERb3w94p0v4r2ulyWjzXtppMPh3V9P0qWK5eaZo7vS21dV3I042DEbJs2yCTA2fUdFAHyt4G/Z58aeHfjJceJfDnjrw74YuLSRYfEem6R4A1GxsPEIkUS+ZKZ9SeKecbyftcOZQ5ZJHYbo69h8efEX/hX/jrTZdW0zxLc6DNpsyw3Hh/RL3Vo/tHmxl1nitIpXQ7AhjcqFwZhuzgV6RRQB82fB/wv488YeA9Q+2R2Phu4sb+O48N61qvhJ7C7umE7y3Fzd2X295GWdnZjve2lLSSs0ScZveAf2ddZ+Ffjeb4gX/jC48W6mtlffbrS20sxzXKyXE90lpbFrhisCyTyMscplkLkfv1T5B9C0UAfPuval/w0R420vTNE8OeKdI0PTtPv11PxNrmk3ejxPHd2stt9hit7pIprhy5inZvL8pBAg372CjpvEWh+KPC3iHTvFGra3p+qeEPDrs8Gl6P4Ru7rWzE8Jg2meO7kMoBdZHEdtlvKGFyBXrlFAHyfovgv4mfGbxX8T7vSvHPiLwV8PdeNtbWr63oF5baplFfzfsUV1dAWkXMcZc2sbSgvhQ6rcP3vwr+A/i/wPeeE4dZ8W+GdW0LwzJeNp1ppfhWawuIIp1lVbVJnv5lW3jWRFVBHnbBECx2kn3OigD53/aj8U694o8N3vgPwMnjLTPHc1zELK907QtQWwJKlleXUYnhhjhUkMxFxuBj2mKbJhk9i8cfECx+H9va3Wpadrl5Z3DtF52h6Ldaq0b4yqvDaxySgMNxD7Ng2YZlLIG6aigD5Ch1LWte8VXOoXs0PhfTvEXiCy8Uab8PtS0C41LxNcRWi2x+1BUvAmmrM9vsPmRbIy6+YySSsg9Ot/Gj/F74ueDpfD3hjxTY6V4be4vtR8Qa7pV5okDpNbTwLZRw3SRS3DmQxTMRGY0EKEvvKrXt9FAHkXiz9nmxuPHNx8QPCN+3h74hTXEU8mo6nLe6lp8wSB7cJJYC7ij4ikcK0ZRlY5ycsGw9V+Fvx8vvD1/pln8bvDWkT3Vy1wmp2vgOWS5tlaTeYo/O1ORNnVBuRiqnAIwpHvNFAHzPpP7Ovxp8M6L4gsNA+PFtpUmqG2MV1deHr/WJNPMbMZGgOpatckGUFVYMWQBcqqsS1WG/ZL1PTdHuNM0/xXo3iS01aCA+IY/iN4dk19dXvIpZpFuXRLy3UHMwAjcOiiC32BDHk/SFFAHj37Onwd8ZfBTRrvQdc8e2vi/w4jZ0ixXSriCTSo+1uk897cySwqPurIzMvQPtCqMn4w/ECXx5pV98PdA8HeL7nxRfXa2sd9LpN1YWGkvHIJI9SbUHVYHSFkSZUgkkkdgibeW2+70UAeB+Nf2ffG/jLw7deE3+IOj2ngv7U9xBpSeGZHkuIjIzrZ30pvcXFqQxV0iSB3CqN6jcG9F+Ffw4uPh3o7RX+uTeIdWubeyS+1CWLyvtM0FnDbNNs3NtMhh3kbjjcBk4ye3ooA8H+IHxAl+KF5o/gzQPB/jAayusWd3e6jqGk3elWWjra3cMkshvJFWK5OFZUjtnmWbnnyiz13l58M54fhVq/g/SdWS1nvUu1jvr60+1Rp9omkkZXh3pvQCRk271O3+IHmu8ooA8Qs/gn4603wjoPha38b+Hp9Dsp0vLpdS8NXV1OZlv2u0FrI2ogW8UX7mOGN1mMSwp8zYAHK+Jv2YviNrHiDwJf6d8TPDOm23geYnRI5fBUtxP9nCiNYZpjqIyTGArvAsJkGQflO2vpmigD58034J/GPRY7uDS/ir4Q0uzuf7Qd7Wz8C3McYmvJVlecY1bIkRw5Q5wPOk3Bsjb3vwt+Fd/4HcahrevR6/r0kNxFc3VpaPaW8rTX092zCJ5pmXBn2hd5ACnGAQq+jUUAeF/Gf4eeKb3T/F1pp/iXRbTwv4xZbS/0+/8E3uvXAkmt47NiGtryILFsjQkvEVQ7mZ9v3ex+I3jWbwDq3ha81Gx1/UdBP2iO6n8O6TdajIl15a+SZre1SSUxMv2jkIVVxFkgla9DooA+bvhxoPiL4r2/wAUtO1ewk07wXr8eo22na1qHheTRNYl+2M6PlZrl5nWKJYYw8sFsWEMW1WUAj1f4qfBTwl8aLfSofFlleXiaXO9zZ/ZNTurIxSPG0TMfIkTfmN3TD5G12GMMQe6ooA8LuPhb8b2tbe0tvjB4Ztre30ybTEYeCrkyvvEYW5dv7VGZ0EZ2sAq5lkyhyu3hvi5/wAJbpvwku/hfoN/4rvfidcXzXEOt6D4a1S0024luLh7ncb1bgJbwoZcPm8LDyiPLlU+S/1bRQB8vN+y38R7P4hW3jfQviL4N8K+JTP5uqXmi+B7uIa4h3ExX8bauyTrlyVfaJI8ARugyD6/8S/HT+A/EXhm8vtN8QXvh2RbpbiXw9pN1qbxXW2PyBNBaxySmMobn5thQOE3YOyvQqKAPm34Z6L4x+I0PjV57aLR9Gk1Br/w5ruteEJdM1CS6F6Jw09vJeGaaFDb2qHzI7RpFiUKAu1hf8Nfsy+JNP8Ai1pnxD1v4gw6vrUV9PdXUMGjPbwLFJbiE29puuZHhjfbG0izPcKTFF5SwbAa+g6KAPMfip+z/wCHfihrFp4kma7sPGWl2jW+j6vFfXQis281JkZ7WOZIp1E0UMhVx8xiTkFVK+d6d4b8R/EX4iXupW/xI8H6p4x8KobSG/0bwVeLZWk5l2y293KdRdZpEj85fs6TRSRfaN7ghlDfSVFAHztJ+z78T/8AhYsPjpPinoNx4ha3ktLiO+8ITS2SwOMG3giTUUeOE7YpGV5JWMqFw4U+WPTtB8EeIfBvwl0fwv4e1rRbPW9NtIbSLUbrRZJbEBMBttol1GyrtBVV8/5eMlsYPd0UAeCP8AvGiaLe2cfirwXcHWIpINbtdR8GXE+n3cbXdzcqkduupIUUtdzCRZJJRICBhRkN594D8B+MPgd4K1HWbP4ueFdB8Ba1Kktl4Z8QfD/Uobewlkypt7K0n1RbmIzN92z5XccRRKWIb68ooA88+Cfw6t/AHhKwWG9kvHn0vTbdi1i9iuLezjgVhbSEvCWCZMbHK8KeVJPodFFABRRRQAUUUUAFFFFABRRRQAUUUUAFFFFABRRRQAUUUUAFFFFABRRRQAUUUUAFFFFABRRRQAUUUUAFFFFABRRRQAUUUUAFFFeGR+JYb749fETXNYjeXTvh9pNnZabbBl/4+bqJ7i5lQMwXzXQ2sKEkEYkAOJGoA9zorA8F+NtO8eeGYtc01bqO2aW4tpILq3aKeGeCZ4J4nQj7ySxSIduQSuVLKQTwl5+074LsU8GpM98uoeJ1jli00wKLqxha4itmmuoy37tI7ieKFyNxBZmAKRyOgB61RXzX8eYfEut/BH4h3Wka3rNp4s+HWsvr2m3tzcW6C8a2hjv0gYQIitbtDOYNkg3HHzs3LHsvjpdHwX4u+GnjOyUref8ACQ2vhy+EZA+02N+xg8t/UJcNbzD08tgPvtkA9ior5+/a0+Pl/wDs9t8PtciS6vNHn1K/j1TTrSFHe8ij0m9njQuynyUE0ULtLlQiozOdgauv8L/EKx+Hui6Bp3xO+JfhlvGPiGRri2he9trOGVpXG22sEba80SF0jV23SPkFjlgoAPUqK+S/gh+0trek6j8SJfilrqXGhQTa9rGhXzW8MHlWOm6nc2d3aDYqhzCiWUgLZdvtTZJ28ZHhH9qrxf8ADPw940n+Kd5pkuvyeL9P0jS7PWLu30ew0lr3SbfUTaXF2IyEit1edfNZZJHMYHzFhQB9l0V84eD/ANrqb4lWOl6f4N0DQ/Eni+61m+0iaOz8S+ZocQtLeO4kuE1GO2dpYzHcWoXbBu8yYqQoRmGH8G/jl4wbQ4NBh0FvEXjzXvFni2SKx13W2htdNsrHVJEkSS6WKdtsRntoI0jjYHcMbUUkAH1XRXzT/wANXRQappOpa7YaloFtpui+K7vxFpNtcQXMNvPo0tqk4UmDzJ8iVmidZIQVI3xksBHP4J+IPxB8RftO+E7HxZoSeErG78B6nqaaVp2vPqNrK/23TAhmUwwhbiIPIpwjKBL8kjbnCgH0fRRRQAUV8p6H8cPGfjr4/wDjX4S6frf9iz2XiSS5XW57OHNvpEFjpkj2dmGjKT3Ek11JuZw/kxSFm5aEHof2hvjpFq3w/n034R/ErQovGf8AwkujaDcXWl3NnqUumG71GK1bzoWEgU/M4w65ypxyKAPouivjn46ftR+LNQ/Zt0/VfAl2nhj4gS6Hqet6wVghuToq6XE630RSUOhP20RWo3A/LJIwOUFdJ8Rv26dA+HfjLW9Iuf8AhGVtPDjWUWsLqXieOx1aR5445XNhp5iZrpY4po2JMke5t6LuK8gH1FRXg2vftSW/hv456T8P7218N/8AEx1VdIW3h8VQy67A727zR3EumLGdlu+1QHM2/EsbGMZIEHgL9prXPFWp+C7jVPA1vofhTxbq97oOnamuuC4uheW6XT/vbYQKqxSCynCuJWbO0Mi5yAD6AoryL9nn46Xfx00zVNRm0zRNFjtJFhbS7XXHvNWsJdzh7fUrVraL7HOu0Ax75OdwzhQW7LTfi14H1jxjdeErDxn4fvvFdrv+0aFbapBJfQ7Pv74A5dcZGcjjNAHV0VxnjL4jaZoOtWfhYamNI8T61C8ek3V9pVzcWAuCkhiWWRNkZYmNiITNG8gRgpHUc74J8eaxpkWkaRrqX2tapc+I77RL3Upvs0KW5SGe5ilWOMDELpHGqId0i+agd5CGcgHqtYXjDxz4f+H+krqXiTWLPRrJ5Vt4pLuUIZpmB2QxL1klbBCxoCzHgAmi88YWVj4z03wzNFdLfajZ3F7bzCEm3ZYWiWRDJ0D/AL5CFPUBiM7Tj5u+PWpeGviH4u0TxMkEniHwt4Tu7jw/4j0/T2udM1W5mup4LaCOCQRK1/a7/PElrHKsUzKP9e8SxEA+obXWLO8+xqs3lzXkBuoba4UwztGNm5jE4DjaZEDAgFSwBwTirtfPHx00vw94y8G+BtT8Nixlsr2x1TStI1LT0UC2trnRbtla3dRmME28KgLjsO2K9y8J6s2veFdG1NsFr2yhuTgYGXQN/WgDVoriIfipYeIbPxUnhKF/EWs+HZmgudNkSWzMsiOyukUksYWTmOVFZSYzJGyF12sV63StSt9a0uz1C0fzLW7hSeJ8feRlDKfyIoAtUV4L8fP2no/hQ50vStOju/FMeq2dpFpWrF7VNUimiaVVtJ8FGll8qaGJWIzNE4I2gtXsnhPxNY+NPDOl69pjO9hqNulzD5qFJFVgDtdTyrjoynkEEHkUAa1FeJftKeIm8M+EfFUbarrCT6j4Y1G4061W3jNhFc2ULXBBkSPzhLKhPys7IUt3woIO/tviTaxf2n4G1KQyq2n6/GyFJmRAZree2+dQcOD9owAwOCQRggEAHb0V84eHf2vobzxn8SdMutCuda0/QGuG0g+GLaW6vruW382O40yW2IDLfb7d5UQHa0E0TEphie6+Dfxgl8XfD2XW/FkI8O6imtSabLZ3UM1u8BnuVFjC6TRRSLI0VzaDDIpLPnoQaAPVaK8r+DMdj4Js9Z8Kt478SeODoyi7n1bxVJDI9ujy3EZi+0JFHvKvbSlt+4qGXBCFFGF4q/aP0H/hHdB8XWMXjRfBEM73eqeINN0RVgs4YzLG8d/b3Sfa44tyl2eGHciojs6RtlgD3GiuR8afEqx8J/De68aWOn6l4y09LaO6tbXwratqNzfpIVEZt0jz5gO9W3DgLlicAmsP4O/FCXxb8NtD1rxN5WkavqF9cae9s6SwhJ1nlRIts0UUikrGMCWONzlcorNtoA9Kory34gfEPSNf8J+JdItLK81mJrmDQb5bab7LtS7uTYySxy5HEUnnBipDAwvjkDPM6X8a7jSfGXwg0C81S0jsPGWkRyW9vJpw8+WZbSSV9tw14hbOIyRHayiPbiRk+0QmgD3iivPvhZ8cvC3xkutbj8L3Et7a6a67L7Cm3vojLND59uysd0fn2t1FkhSWgYgFCjt6DQAUUUUAFFFFABRRRQAUUUUAFFFFABRRRQAUUUUAFFFFABRRRQAUUUUAFFFFABRRRQAUUUUAFFFFABRRRQAUUUUAFFFFABXkt98Lf+Ly+Ib650K18QeC/G2jQ2euWl2kMsMV1alxE8kUn+tSaGXyyAG2m3jyuGLD1qigDy/xB8NfF9jZ2+i/DnxZoXw88LRwJbrYQeFo7iayAPJs2E8cMWV6CWCYBsnBHy1Ho37LXwn0nwpF4fuPh/4d1y08yO4up9b0q3vbi/ukVl+1XMkiEzTkPJmVssTI/PzGvVKKAOZ8L/DDwb4H8PXugeHPCWh+H9CvXeS60vS9NhtradnQI7PEihWLIqqSRyFAPArmfid4L1P4heOvAFi1mU8LaHqX/CRX96zx4muIEZbS2VM78+bIJy20AfZ1XJ3kD0yigDlPGHw10nxx4i8I6xqTTtN4ZvLi9tbdCnkztNZz2jpMrKdyeXcyHAI+YLkkZBT4Y/DfTvhP4WXw5o11ey6LBcTS2NpeSLILCF3LC1hIUHyYySEVixVcKG2qoHWUUAeJ6x+yN4G17Q9A0u/k1W4g0XxRd+KoH+0oryzXN1Lcz20u1AHtneYgxkZKogLEgk6/iH9nPw/r2p+ItVXVNY0zW9W1208SQ6pZSw+dpl9b2UVkklsHiZMGCMqyyrIrCWQEYIA9VooA8p1j4Cza9baBcXvxG8XSeKNBu57nT/FKJpkd7Ek0XlS27RrZC2kiZcHDwMwZVYMCoIytP/ZV0HQdJ0aLQfFPinQ9a0jUdT1G08Rw3UFxfg6hK0t5FIbiCWOaORyrESRs2Yo23bl3V7XRQB4/bfss+CUt9LgvP7R1WG10vWtLvVvrhWOrDVnhk1Ca6ZVDGWR4c/uyir5jKqhQipN8O/2d7PwH400vxXd+NPFnjDWtN0Obw5ay+ILm2ZEsnkt5NuyCCJS4a2U+aR5j72EjOFj2etUUAcV4V8KeILH4jeNPEesazJPpupCztNI0eG5ke3tLeCNi8xRgFWeWWaQNtBGyGH5ic47WiigDyjVv2bfDGq3Gs3v2zVLPWL/xPF4tt9WtpYludNvkt7e2/wBHYxkCN4rZUdJA4dZJFbKsAOv+IPw9074kaXplhqc11BDp+safrUTWjqrGazuo7mJW3K3yF4lDAYJUnBB5HUUUAeMX/wCyb4IvpPi3IH1S2k+Jlm1lqzRXCH7JG0TpJ9kDIREZGkeV8hgznJGAANi5+BYtfF9/4g8NeNvEvgyTVGt5dUsdIXT5bbUJoY1iWaRbq0mZHMSRxsYmTKxpxkZr0+igDxmP9l3RYvGcGtp4o8SJptv4ik8VweHFltFsI9SkLGSbcLf7Q4YySnY8zKPMO0LtTbraf+z34f03w/4J0i31DVUh8I63ca/p8xliMj3EyXiMJP3eGQC+lIAAOVTJOCG9QooA898BfB2Lwb4s1TxTqPijXPGXiXULGDTG1PXFs43jtYZJZEhVLS3gjxvmkbLKW+bG7HFehUUUAeTan+zz4M8bePvE2t+OfBXh3xq149u+nXniDTYL+SzhWBY2tI/OVjHGJI3m2rhS1y5xksaxD+zbo/h/xrDqXgHwD8MvAH2GFpbTxDa+GoZ9SNwyMuwIiQiGIEgOVld5Y3kRfIbEo90ooA8Zt/hL8R5NcuPFOo/EnS77xdFEbTS4x4akj0Sxtn8szA2QvTNLNIYwfNa5BXAVVVTIskvwl/Zp8O/D7xDqnjLWdP8AD/iD4kapqFxqF14ntPDttp7xGXK+Vbqu6SNNhIYvLJJIWdndt2B7DRQBw9v8C/htZ+LpfFUHw+8KweKJZZZ5Nbj0W2W9eSQMJXMwTeWcOwY5yQxznJrc8Wafr13oZh8LarYaFqqMphuNS05r612jhleFJoWIxnG2RMEKeQCp3KKAPDvCP7JngzydbvviHoHhP4i+Jdb1OXVL29uvC1pBao7fKqwW7CQrhAA0kkkkrsWLSEbVT0rxR4f13+wLKz8E6tpfha5syiRLfaSb2y8kKV8owRzQMABjbskXBUcEZFdPRQB5T4L/AGf9Msb7Vtf8dS2PxF8bavFJaXmt6lpMMaRWLgr/AGfawnf5NoFZsxl3Ll3aRnLZrvf+Ecj0rwmNE8NC28NRW1qLbT1s7RPIswq4jCwjC7FwBsGOBgEdRs0UAeW+G/hT4mvPGCeI/iF4wtPFklpbSW2naPpOjnTNLtvNXbLM8Lz3Ek0zJlNzy7VRnCoC7E9/4k8M6P4y0S60bX9Jsdc0e7ULcafqVslxbzKCGAeNwVYZAPI6gVp0UAcxoPwv8GeFrnTLjRfCOhaRcaXavZWEthpsMD2lu773hiKqCiMx3FVwCeSM1leLvgH8MfiBrT6x4o+HPhPxJq8iLG9/q+h2t1OyqMKpkkjLEAcAZ4rvKKAPKZfgfB4GtZV+Dun+BvhnNe/Jqe3wek8V6qg+XuS3ntTuQs+CzMMSONvORz/gH9if4OeD/CljpepfDrwd4o1KMM93rGpeF9PEt1M7F3fYkISNdzELGgCooVRwK92ooAyPCvhDQfAmh2+i+GtE07w9o1uWMOnaVaR2tvGWYsxWOMBRliScDkkmuV8Tfs7/AAq8a65da14h+GXg7XtZuipuNR1PQLS5uJiqhVLyPGWbCqoGT0AHavQaKAPErz9mPwRpPi7w9d+FPhJ8LdHtrO4S8udYm8OwG9haORWVLaKOJArkAkTmX92yqfKkzxu3n7LXwX1C7nurr4ReA7m6ndpZZpvDVk7yOxyzMxiySSSST1zXqFFAHP8Ah74feFvCOqajqWheGtH0XUdSWJb280+wigmuhGu2MSuiguEUkLuJwDgV0FFFABRRRQAUUUUAFFFFABRRRQAUUUUAFFFFABRRRQAUUUUAFFFFABRRRQAUUUUAFFFFABRRRQAUUUUAFFFFABRRRQAUUUUAFFFFABRRRQAUUUUAFFFFABRRRQAUUUUAFFFFABRRRQAUUUUAFFFFABRRRQAUUUUAFFFFABRRRQAUUUUAFFFFABRRRQAUUUUAFFFFABRRRQAUUUUAFFFFABRRRQAUUUUAFFFFAH//2Q==)"
      ],
      "metadata": {
        "id": "F-XrrNGnb9Fr"
      }
    },
    {
      "cell_type": "code",
      "source": [
        "kmedo = _______________      # Apply the K-Medoids algorithm on the pca components with n_components=3 and random_state=1ed\n",
        "\n",
        "\n",
        "kmedo.fit(____________)      # Fit the model on the pca components\n",
        "\n",
        "data_copy['kmedoLabels'] = kmedo.predict(data_pca)\n",
        "\n",
        "data['kmedoLabels'] = kmedo.predict(data_pca)"
      ],
      "metadata": {
        "id": "wm4iWiNu1Wzx"
      },
      "execution_count": null,
      "outputs": []
    },
    {
      "cell_type": "code",
      "source": [
        "# تعداد مشاهدات در هر خوشه\n",
        "data.kmedoLabels.value_counts()"
      ],
      "metadata": {
        "id": "21gVxG4i1n_T"
      },
      "execution_count": null,
      "outputs": []
    },
    {
      "cell_type": "code",
      "source": [
        "# محاسبه خلاصه آمار داده های اصلی برای هر برچسب\n",
        "\n",
        "mean = data.groupby('kmedoLabels').mean()\n",
        "\n",
        "median = data.groupby('kmedoLabels').median()\n",
        "\n",
        "df_kmedoids = pd.concat([mean, median], axis = 0)\n",
        "\n",
        "df_kmedoids.index = ['group_0 Mean', 'group_1 Mean', 'group_2 Mean', 'group_0 Median', 'group_1 Median', 'group_2 Median']\n",
        "\n",
        "df_kmedoids[original_features].T"
      ],
      "metadata": {
        "id": "JzeYyYDA2moX"
      },
      "execution_count": null,
      "outputs": []
    },
    {
      "cell_type": "code",
      "source": [
        "# Plotting boxplots with the new K-Medoids based labels\n",
        "features_with_lables = [\"Avg_Credit_Limit\", \"Total_Credit_Cards\", \"Total_visits_bank\", \"Total_visits_online\", \"Total_calls_made\", \"kmedoLabels\"]\n",
        "data_copy[features_with_lables].boxplot(by = 'kmedoLabels', layout = (1, 5), figsize = (20, 7))\n",
        "plt.show()"
      ],
      "metadata": {
        "id": "8OBVr9dG2x90"
      },
      "execution_count": null,
      "outputs": []
    },
    {
      "cell_type": "markdown",
      "source": [
        "پروفایل های خوشه:____"
      ],
      "metadata": {
        "id": "ZV79nvOr3Ero"
      }
    },
    {
      "cell_type": "markdown",
      "source": [
        "خوشه های K-Means و K-Medoids را با هم مقایسه کنیم"
      ],
      "metadata": {
        "id": "iJzBEXjY3Lsj"
      }
    },
    {
      "cell_type": "code",
      "source": [
        "comparison = pd.concat([df_kmedoids, df_kmeans], axis = 1)[original_features]\n",
        "comparison"
      ],
      "metadata": {
        "id": "VQCbmYHA7Ab5"
      },
      "execution_count": null,
      "outputs": []
    },
    {
      "cell_type": "code",
      "source": [],
      "metadata": {
        "id": "TSHbsOtP3N0H"
      },
      "execution_count": null,
      "outputs": []
    }
  ]
}